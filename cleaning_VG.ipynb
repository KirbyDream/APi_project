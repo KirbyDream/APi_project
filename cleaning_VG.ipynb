{
 "cells": [
  {
   "cell_type": "code",
   "execution_count": 1,
   "id": "8a4c688a",
   "metadata": {},
   "outputs": [],
   "source": [
    "import numpy as np\n",
    "import pandas as pd\n",
    "import re\n",
    "import warnings\n",
    "import seaborn as sns\n",
    "import matplotlib.pyplot as plt\n",
    "from pandas import json_normalize\n",
    "\n",
    "import requests \n",
    "import json\n",
    "import os\n",
    "from dotenv import load_dotenv\n",
    "\n",
    "import time"
   ]
  },
  {
   "cell_type": "markdown",
   "id": "304629dc",
   "metadata": {},
   "source": [
    "#  Video games analysis and visualization"
   ]
  },
  {
   "cell_type": "code",
   "execution_count": 2,
   "id": "04dd7af8",
   "metadata": {},
   "outputs": [],
   "source": [
    "df_vg = pd.read_csv(\"./data/vgsales.csv\" , index_col = \"Rank\" )\n",
    "df_vg.head()\n",
    "\n",
    "pd.set_option('display.max_rows', None)\n",
    "\n"
   ]
  },
  {
   "cell_type": "code",
   "execution_count": 3,
   "id": "1ab56b0b",
   "metadata": {},
   "outputs": [
    {
     "data": {
      "text/html": [
       "<div>\n",
       "<style scoped>\n",
       "    .dataframe tbody tr th:only-of-type {\n",
       "        vertical-align: middle;\n",
       "    }\n",
       "\n",
       "    .dataframe tbody tr th {\n",
       "        vertical-align: top;\n",
       "    }\n",
       "\n",
       "    .dataframe thead th {\n",
       "        text-align: right;\n",
       "    }\n",
       "</style>\n",
       "<table border=\"1\" class=\"dataframe\">\n",
       "  <thead>\n",
       "    <tr style=\"text-align: right;\">\n",
       "      <th></th>\n",
       "      <th>Name</th>\n",
       "      <th>Platform</th>\n",
       "      <th>Year</th>\n",
       "      <th>Genre</th>\n",
       "      <th>Publisher</th>\n",
       "      <th>NA_Sales</th>\n",
       "      <th>EU_Sales</th>\n",
       "      <th>JP_Sales</th>\n",
       "      <th>Other_Sales</th>\n",
       "      <th>Global_Sales</th>\n",
       "    </tr>\n",
       "    <tr>\n",
       "      <th>Rank</th>\n",
       "      <th></th>\n",
       "      <th></th>\n",
       "      <th></th>\n",
       "      <th></th>\n",
       "      <th></th>\n",
       "      <th></th>\n",
       "      <th></th>\n",
       "      <th></th>\n",
       "      <th></th>\n",
       "      <th></th>\n",
       "    </tr>\n",
       "  </thead>\n",
       "  <tbody>\n",
       "    <tr>\n",
       "      <th>1</th>\n",
       "      <td>Wii Sports</td>\n",
       "      <td>Wii</td>\n",
       "      <td>2006.0</td>\n",
       "      <td>Sports</td>\n",
       "      <td>Nintendo</td>\n",
       "      <td>41.49</td>\n",
       "      <td>29.02</td>\n",
       "      <td>3.77</td>\n",
       "      <td>8.46</td>\n",
       "      <td>82.74</td>\n",
       "    </tr>\n",
       "    <tr>\n",
       "      <th>2</th>\n",
       "      <td>Super Mario Bros.</td>\n",
       "      <td>NES</td>\n",
       "      <td>1985.0</td>\n",
       "      <td>Platform</td>\n",
       "      <td>Nintendo</td>\n",
       "      <td>29.08</td>\n",
       "      <td>3.58</td>\n",
       "      <td>6.81</td>\n",
       "      <td>0.77</td>\n",
       "      <td>40.24</td>\n",
       "    </tr>\n",
       "    <tr>\n",
       "      <th>3</th>\n",
       "      <td>Mario Kart Wii</td>\n",
       "      <td>Wii</td>\n",
       "      <td>2008.0</td>\n",
       "      <td>Racing</td>\n",
       "      <td>Nintendo</td>\n",
       "      <td>15.85</td>\n",
       "      <td>12.88</td>\n",
       "      <td>3.79</td>\n",
       "      <td>3.31</td>\n",
       "      <td>35.82</td>\n",
       "    </tr>\n",
       "    <tr>\n",
       "      <th>4</th>\n",
       "      <td>Wii Sports Resort</td>\n",
       "      <td>Wii</td>\n",
       "      <td>2009.0</td>\n",
       "      <td>Sports</td>\n",
       "      <td>Nintendo</td>\n",
       "      <td>15.75</td>\n",
       "      <td>11.01</td>\n",
       "      <td>3.28</td>\n",
       "      <td>2.96</td>\n",
       "      <td>33.00</td>\n",
       "    </tr>\n",
       "    <tr>\n",
       "      <th>5</th>\n",
       "      <td>Pokemon Red/Pokemon Blue</td>\n",
       "      <td>GB</td>\n",
       "      <td>1996.0</td>\n",
       "      <td>Role-Playing</td>\n",
       "      <td>Nintendo</td>\n",
       "      <td>11.27</td>\n",
       "      <td>8.89</td>\n",
       "      <td>10.22</td>\n",
       "      <td>1.00</td>\n",
       "      <td>31.37</td>\n",
       "    </tr>\n",
       "  </tbody>\n",
       "</table>\n",
       "</div>"
      ],
      "text/plain": [
       "                          Name Platform    Year         Genre Publisher  \\\n",
       "Rank                                                                      \n",
       "1                   Wii Sports      Wii  2006.0        Sports  Nintendo   \n",
       "2            Super Mario Bros.      NES  1985.0      Platform  Nintendo   \n",
       "3               Mario Kart Wii      Wii  2008.0        Racing  Nintendo   \n",
       "4            Wii Sports Resort      Wii  2009.0        Sports  Nintendo   \n",
       "5     Pokemon Red/Pokemon Blue       GB  1996.0  Role-Playing  Nintendo   \n",
       "\n",
       "      NA_Sales  EU_Sales  JP_Sales  Other_Sales  Global_Sales  \n",
       "Rank                                                           \n",
       "1        41.49     29.02      3.77         8.46         82.74  \n",
       "2        29.08      3.58      6.81         0.77         40.24  \n",
       "3        15.85     12.88      3.79         3.31         35.82  \n",
       "4        15.75     11.01      3.28         2.96         33.00  \n",
       "5        11.27      8.89     10.22         1.00         31.37  "
      ]
     },
     "execution_count": 3,
     "metadata": {},
     "output_type": "execute_result"
    }
   ],
   "source": [
    "df_vg.head()"
   ]
  },
  {
   "cell_type": "code",
   "execution_count": 4,
   "id": "5b4ed728",
   "metadata": {},
   "outputs": [],
   "source": [
    "df_vg = df_vg.drop_duplicates()"
   ]
  },
  {
   "cell_type": "code",
   "execution_count": 5,
   "id": "e76fa4ca",
   "metadata": {},
   "outputs": [
    {
     "data": {
      "text/plain": [
       "(16597, 10)"
      ]
     },
     "execution_count": 5,
     "metadata": {},
     "output_type": "execute_result"
    }
   ],
   "source": [
    "df_vg.shape"
   ]
  },
  {
   "cell_type": "code",
   "execution_count": 7,
   "id": "c3764c06",
   "metadata": {},
   "outputs": [
    {
     "name": "stdout",
     "output_type": "stream",
     "text": [
      "Index(['Name', 'Platform', 'Year', 'Genre', 'Publisher', 'NA_Sales',\n",
      "       'EU_Sales', 'JP_Sales', 'Other_Sales', 'Global_Sales'],\n",
      "      dtype='object')\n"
     ]
    }
   ],
   "source": [
    "print(df_vg.columns)"
   ]
  },
  {
   "cell_type": "code",
   "execution_count": 8,
   "id": "85a1b2fc",
   "metadata": {},
   "outputs": [
    {
     "data": {
      "text/plain": [
       "Name             object\n",
       "Platform         object\n",
       "Year            float64\n",
       "Genre            object\n",
       "Publisher        object\n",
       "NA_Sales        float64\n",
       "EU_Sales        float64\n",
       "JP_Sales        float64\n",
       "Other_Sales     float64\n",
       "Global_Sales    float64\n",
       "dtype: object"
      ]
     },
     "execution_count": 8,
     "metadata": {},
     "output_type": "execute_result"
    }
   ],
   "source": [
    "df_vg.dtypes"
   ]
  },
  {
   "cell_type": "code",
   "execution_count": 9,
   "id": "41f57752",
   "metadata": {},
   "outputs": [],
   "source": [
    "def drop_na(df):\n",
    "    df = df.dropna(axis = 0, how=\"all\")\n",
    "    return df\n",
    "df_vg = drop_na(df_vg)"
   ]
  },
  {
   "cell_type": "code",
   "execution_count": 10,
   "id": "b25bea7a",
   "metadata": {},
   "outputs": [
    {
     "data": {
      "text/plain": [
       "(16597, 10)"
      ]
     },
     "execution_count": 10,
     "metadata": {},
     "output_type": "execute_result"
    }
   ],
   "source": [
    "df_vg.shape"
   ]
  },
  {
   "cell_type": "code",
   "execution_count": 11,
   "id": "0fd32b19",
   "metadata": {
    "scrolled": true
   },
   "outputs": [
    {
     "data": {
      "text/plain": [
       "Name              0\n",
       "Platform          0\n",
       "Year            270\n",
       "Genre             0\n",
       "Publisher        58\n",
       "NA_Sales          0\n",
       "EU_Sales          0\n",
       "JP_Sales          0\n",
       "Other_Sales       0\n",
       "Global_Sales      0\n",
       "dtype: int64"
      ]
     },
     "execution_count": 11,
     "metadata": {},
     "output_type": "execute_result"
    }
   ],
   "source": [
    "pd.isna(df_vg).sum()"
   ]
  },
  {
   "cell_type": "code",
   "execution_count": 12,
   "id": "4622024e",
   "metadata": {},
   "outputs": [],
   "source": [
    "def drop_na_column(df, col_name):\n",
    "    df = df[df[col_name].notna()]\n",
    "    return df"
   ]
  },
  {
   "cell_type": "code",
   "execution_count": 13,
   "id": "79aad7c5",
   "metadata": {},
   "outputs": [],
   "source": [
    "df_vg = drop_na_column(df_vg, \"Year\")"
   ]
  },
  {
   "cell_type": "code",
   "execution_count": 14,
   "id": "d884d43c",
   "metadata": {},
   "outputs": [],
   "source": [
    "df_vg = drop_na_column(df_vg, \"Publisher\")"
   ]
  },
  {
   "cell_type": "code",
   "execution_count": 15,
   "id": "8ea17ce5",
   "metadata": {},
   "outputs": [
    {
     "data": {
      "text/html": [
       "<div>\n",
       "<style scoped>\n",
       "    .dataframe tbody tr th:only-of-type {\n",
       "        vertical-align: middle;\n",
       "    }\n",
       "\n",
       "    .dataframe tbody tr th {\n",
       "        vertical-align: top;\n",
       "    }\n",
       "\n",
       "    .dataframe thead th {\n",
       "        text-align: right;\n",
       "    }\n",
       "</style>\n",
       "<table border=\"1\" class=\"dataframe\">\n",
       "  <thead>\n",
       "    <tr style=\"text-align: right;\">\n",
       "      <th></th>\n",
       "      <th>Name</th>\n",
       "      <th>Platform</th>\n",
       "      <th>Year</th>\n",
       "      <th>Genre</th>\n",
       "      <th>Publisher</th>\n",
       "      <th>NA_Sales</th>\n",
       "      <th>EU_Sales</th>\n",
       "      <th>JP_Sales</th>\n",
       "      <th>Other_Sales</th>\n",
       "      <th>Global_Sales</th>\n",
       "    </tr>\n",
       "    <tr>\n",
       "      <th>Rank</th>\n",
       "      <th></th>\n",
       "      <th></th>\n",
       "      <th></th>\n",
       "      <th></th>\n",
       "      <th></th>\n",
       "      <th></th>\n",
       "      <th></th>\n",
       "      <th></th>\n",
       "      <th></th>\n",
       "      <th></th>\n",
       "    </tr>\n",
       "  </thead>\n",
       "  <tbody>\n",
       "    <tr>\n",
       "      <th>1</th>\n",
       "      <td>Wii Sports</td>\n",
       "      <td>Wii</td>\n",
       "      <td>2006.0</td>\n",
       "      <td>Sports</td>\n",
       "      <td>Nintendo</td>\n",
       "      <td>41.49</td>\n",
       "      <td>29.02</td>\n",
       "      <td>3.77</td>\n",
       "      <td>8.46</td>\n",
       "      <td>82.74</td>\n",
       "    </tr>\n",
       "    <tr>\n",
       "      <th>2</th>\n",
       "      <td>Super Mario Bros.</td>\n",
       "      <td>NES</td>\n",
       "      <td>1985.0</td>\n",
       "      <td>Platform</td>\n",
       "      <td>Nintendo</td>\n",
       "      <td>29.08</td>\n",
       "      <td>3.58</td>\n",
       "      <td>6.81</td>\n",
       "      <td>0.77</td>\n",
       "      <td>40.24</td>\n",
       "    </tr>\n",
       "    <tr>\n",
       "      <th>3</th>\n",
       "      <td>Mario Kart Wii</td>\n",
       "      <td>Wii</td>\n",
       "      <td>2008.0</td>\n",
       "      <td>Racing</td>\n",
       "      <td>Nintendo</td>\n",
       "      <td>15.85</td>\n",
       "      <td>12.88</td>\n",
       "      <td>3.79</td>\n",
       "      <td>3.31</td>\n",
       "      <td>35.82</td>\n",
       "    </tr>\n",
       "    <tr>\n",
       "      <th>4</th>\n",
       "      <td>Wii Sports Resort</td>\n",
       "      <td>Wii</td>\n",
       "      <td>2009.0</td>\n",
       "      <td>Sports</td>\n",
       "      <td>Nintendo</td>\n",
       "      <td>15.75</td>\n",
       "      <td>11.01</td>\n",
       "      <td>3.28</td>\n",
       "      <td>2.96</td>\n",
       "      <td>33.00</td>\n",
       "    </tr>\n",
       "    <tr>\n",
       "      <th>5</th>\n",
       "      <td>Pokemon Red/Pokemon Blue</td>\n",
       "      <td>GB</td>\n",
       "      <td>1996.0</td>\n",
       "      <td>Role-Playing</td>\n",
       "      <td>Nintendo</td>\n",
       "      <td>11.27</td>\n",
       "      <td>8.89</td>\n",
       "      <td>10.22</td>\n",
       "      <td>1.00</td>\n",
       "      <td>31.37</td>\n",
       "    </tr>\n",
       "  </tbody>\n",
       "</table>\n",
       "</div>"
      ],
      "text/plain": [
       "                          Name Platform    Year         Genre Publisher  \\\n",
       "Rank                                                                      \n",
       "1                   Wii Sports      Wii  2006.0        Sports  Nintendo   \n",
       "2            Super Mario Bros.      NES  1985.0      Platform  Nintendo   \n",
       "3               Mario Kart Wii      Wii  2008.0        Racing  Nintendo   \n",
       "4            Wii Sports Resort      Wii  2009.0        Sports  Nintendo   \n",
       "5     Pokemon Red/Pokemon Blue       GB  1996.0  Role-Playing  Nintendo   \n",
       "\n",
       "      NA_Sales  EU_Sales  JP_Sales  Other_Sales  Global_Sales  \n",
       "Rank                                                           \n",
       "1        41.49     29.02      3.77         8.46         82.74  \n",
       "2        29.08      3.58      6.81         0.77         40.24  \n",
       "3        15.85     12.88      3.79         3.31         35.82  \n",
       "4        15.75     11.01      3.28         2.96         33.00  \n",
       "5        11.27      8.89     10.22         1.00         31.37  "
      ]
     },
     "execution_count": 15,
     "metadata": {},
     "output_type": "execute_result"
    }
   ],
   "source": [
    "df_vg.head()"
   ]
  },
  {
   "cell_type": "code",
   "execution_count": 16,
   "id": "d99e8128",
   "metadata": {},
   "outputs": [
    {
     "data": {
      "text/plain": [
       "Name            0\n",
       "Platform        0\n",
       "Year            0\n",
       "Genre           0\n",
       "Publisher       0\n",
       "NA_Sales        0\n",
       "EU_Sales        0\n",
       "JP_Sales        0\n",
       "Other_Sales     0\n",
       "Global_Sales    0\n",
       "dtype: int64"
      ]
     },
     "execution_count": 16,
     "metadata": {},
     "output_type": "execute_result"
    }
   ],
   "source": [
    "pd.isna(df_vg).sum()"
   ]
  },
  {
   "cell_type": "code",
   "execution_count": 17,
   "id": "f78d9b7d",
   "metadata": {},
   "outputs": [],
   "source": [
    "df_vg.to_csv(\"./data/df_video_games.csv\")"
   ]
  },
  {
   "cell_type": "markdown",
   "id": "8de3c9e7",
   "metadata": {},
   "source": [
    "# 1- Video games Genre \n"
   ]
  },
  {
   "cell_type": "markdown",
   "id": "81a8b4db",
   "metadata": {},
   "source": [
    "### Genre with most games releases"
   ]
  },
  {
   "cell_type": "code",
   "execution_count": 19,
   "id": "56603db0",
   "metadata": {},
   "outputs": [],
   "source": [
    "genre = df_vg[\"Genre\"].value_counts()\n"
   ]
  },
  {
   "cell_type": "code",
   "execution_count": 28,
   "id": "f2452bd2",
   "metadata": {},
   "outputs": [],
   "source": [
    "sns.set_style(\"whitegrid\")\n",
    "sns.set(rc={\"figure.figsize\": (17.,6.)})\n",
    "sns.plotting_context(\"talk\")\n",
    "sns.set_context(\"poster\")\n"
   ]
  },
  {
   "cell_type": "code",
   "execution_count": 30,
   "id": "935a6656",
   "metadata": {},
   "outputs": [
    {
     "data": {
      "image/png": "[encoded data removed]",
      "text/plain": [
       "<Figure size 1224x432 with 1 Axes>"
      ]
     },
     "metadata": {},
     "output_type": "display_data"
    }
   ],
   "source": [
    "sns.countplot(x=\"Genre\", data=df_vg, order = df_vg[\"Genre\"].value_counts().index).set(title='Genre with the most games')\n",
    "sns.color_palette(\"hls\", 8)\n",
    "plt.xticks(size=20)\n",
    "plt.yticks(size=20)\n",
    "plt.xticks(rotation=70)\n",
    "plt.rcParams[\"axes.labelsize\"] = 15\n"
   ]
  },
  {
   "cell_type": "code",
   "execution_count": 33,
   "id": "2a200de0",
   "metadata": {},
   "outputs": [
    {
     "name": "stdout",
     "output_type": "stream",
     "text": [
      "Action          19.955804\n",
      "Sports          14.142778\n",
      "Misc            10.349273\n",
      "Role-Playing     9.023387\n",
      "Shooter          7.869376\n",
      "Adventure        7.820269\n",
      "Racing           7.519489\n",
      "Platform         5.371064\n",
      "Simulation       5.205328\n",
      "Fighting         5.131668\n",
      "Strategy         4.112700\n",
      "Puzzle           3.498864\n",
      "Name: Genre, dtype: float64\n"
     ]
    }
   ],
   "source": [
    "percent = (df_vg['Genre'].value_counts()/df_vg['Genre'].count())*100\n",
    "print(percent)"
   ]
  },
  {
   "cell_type": "markdown",
   "id": "f0c96124",
   "metadata": {},
   "source": [
    "### Genre with the most sales (in millions)\n",
    "Grouping by genre to get the global sales per genre "
   ]
  },
  {
   "cell_type": "code",
   "execution_count": 44,
   "id": "0efbca77",
   "metadata": {},
   "outputs": [
    {
     "data": {
      "text/html": [
       "<div>\n",
       "<style scoped>\n",
       "    .dataframe tbody tr th:only-of-type {\n",
       "        vertical-align: middle;\n",
       "    }\n",
       "\n",
       "    .dataframe tbody tr th {\n",
       "        vertical-align: top;\n",
       "    }\n",
       "\n",
       "    .dataframe thead th {\n",
       "        text-align: right;\n",
       "    }\n",
       "</style>\n",
       "<table border=\"1\" class=\"dataframe\">\n",
       "  <thead>\n",
       "    <tr style=\"text-align: right;\">\n",
       "      <th></th>\n",
       "      <th>Genre</th>\n",
       "      <th>Global_Sales</th>\n",
       "    </tr>\n",
       "  </thead>\n",
       "  <tbody>\n",
       "    <tr>\n",
       "      <th>0</th>\n",
       "      <td>Action</td>\n",
       "      <td>1722.84</td>\n",
       "    </tr>\n",
       "    <tr>\n",
       "      <th>10</th>\n",
       "      <td>Sports</td>\n",
       "      <td>1309.24</td>\n",
       "    </tr>\n",
       "    <tr>\n",
       "      <th>8</th>\n",
       "      <td>Shooter</td>\n",
       "      <td>1026.20</td>\n",
       "    </tr>\n",
       "    <tr>\n",
       "      <th>7</th>\n",
       "      <td>Role-Playing</td>\n",
       "      <td>923.83</td>\n",
       "    </tr>\n",
       "    <tr>\n",
       "      <th>4</th>\n",
       "      <td>Platform</td>\n",
       "      <td>829.13</td>\n",
       "    </tr>\n",
       "    <tr>\n",
       "      <th>3</th>\n",
       "      <td>Misc</td>\n",
       "      <td>789.87</td>\n",
       "    </tr>\n",
       "    <tr>\n",
       "      <th>6</th>\n",
       "      <td>Racing</td>\n",
       "      <td>726.76</td>\n",
       "    </tr>\n",
       "    <tr>\n",
       "      <th>2</th>\n",
       "      <td>Fighting</td>\n",
       "      <td>444.05</td>\n",
       "    </tr>\n",
       "    <tr>\n",
       "      <th>9</th>\n",
       "      <td>Simulation</td>\n",
       "      <td>389.98</td>\n",
       "    </tr>\n",
       "    <tr>\n",
       "      <th>5</th>\n",
       "      <td>Puzzle</td>\n",
       "      <td>242.21</td>\n",
       "    </tr>\n",
       "    <tr>\n",
       "      <th>1</th>\n",
       "      <td>Adventure</td>\n",
       "      <td>234.59</td>\n",
       "    </tr>\n",
       "    <tr>\n",
       "      <th>11</th>\n",
       "      <td>Strategy</td>\n",
       "      <td>173.27</td>\n",
       "    </tr>\n",
       "  </tbody>\n",
       "</table>\n",
       "</div>"
      ],
      "text/plain": [
       "           Genre  Global_Sales\n",
       "0         Action       1722.84\n",
       "10        Sports       1309.24\n",
       "8        Shooter       1026.20\n",
       "7   Role-Playing        923.83\n",
       "4       Platform        829.13\n",
       "3           Misc        789.87\n",
       "6         Racing        726.76\n",
       "2       Fighting        444.05\n",
       "9     Simulation        389.98\n",
       "5         Puzzle        242.21\n",
       "1      Adventure        234.59\n",
       "11      Strategy        173.27"
      ]
     },
     "execution_count": 44,
     "metadata": {},
     "output_type": "execute_result"
    }
   ],
   "source": [
    "Global_sale_genre = df_vg.groupby(by=['Genre'])['Global_Sales'].sum().reset_index()\n",
    "Global_sale_genre\n",
    "Global_sale_genre.sort_values(by = [\"Global_Sales\"], ascending = False)\n",
    "\n"
   ]
  },
  {
   "cell_type": "code",
   "execution_count": 47,
   "id": "295b4220",
   "metadata": {},
   "outputs": [
    {
     "data": {
      "text/html": [
       "<div>\n",
       "<style scoped>\n",
       "    .dataframe tbody tr th:only-of-type {\n",
       "        vertical-align: middle;\n",
       "    }\n",
       "\n",
       "    .dataframe tbody tr th {\n",
       "        vertical-align: top;\n",
       "    }\n",
       "\n",
       "    .dataframe thead th {\n",
       "        text-align: right;\n",
       "    }\n",
       "</style>\n",
       "<table border=\"1\" class=\"dataframe\">\n",
       "  <thead>\n",
       "    <tr style=\"text-align: right;\">\n",
       "      <th></th>\n",
       "      <th>Genre</th>\n",
       "      <th>Global_Sales</th>\n",
       "      <th>percent</th>\n",
       "    </tr>\n",
       "  </thead>\n",
       "  <tbody>\n",
       "    <tr>\n",
       "      <th>0</th>\n",
       "      <td>Action</td>\n",
       "      <td>1722.84</td>\n",
       "      <td>19.551133</td>\n",
       "    </tr>\n",
       "    <tr>\n",
       "      <th>10</th>\n",
       "      <td>Sports</td>\n",
       "      <td>1309.24</td>\n",
       "      <td>14.857518</td>\n",
       "    </tr>\n",
       "    <tr>\n",
       "      <th>8</th>\n",
       "      <td>Shooter</td>\n",
       "      <td>1026.20</td>\n",
       "      <td>11.645523</td>\n",
       "    </tr>\n",
       "    <tr>\n",
       "      <th>7</th>\n",
       "      <td>Role-Playing</td>\n",
       "      <td>923.83</td>\n",
       "      <td>10.483808</td>\n",
       "    </tr>\n",
       "    <tr>\n",
       "      <th>4</th>\n",
       "      <td>Platform</td>\n",
       "      <td>829.13</td>\n",
       "      <td>9.409133</td>\n",
       "    </tr>\n",
       "    <tr>\n",
       "      <th>3</th>\n",
       "      <td>Misc</td>\n",
       "      <td>789.87</td>\n",
       "      <td>8.963603</td>\n",
       "    </tr>\n",
       "    <tr>\n",
       "      <th>6</th>\n",
       "      <td>Racing</td>\n",
       "      <td>726.76</td>\n",
       "      <td>8.247418</td>\n",
       "    </tr>\n",
       "    <tr>\n",
       "      <th>2</th>\n",
       "      <td>Fighting</td>\n",
       "      <td>444.05</td>\n",
       "      <td>5.039168</td>\n",
       "    </tr>\n",
       "    <tr>\n",
       "      <th>9</th>\n",
       "      <td>Simulation</td>\n",
       "      <td>389.98</td>\n",
       "      <td>4.425571</td>\n",
       "    </tr>\n",
       "    <tr>\n",
       "      <th>5</th>\n",
       "      <td>Puzzle</td>\n",
       "      <td>242.21</td>\n",
       "      <td>2.748648</td>\n",
       "    </tr>\n",
       "    <tr>\n",
       "      <th>1</th>\n",
       "      <td>Adventure</td>\n",
       "      <td>234.59</td>\n",
       "      <td>2.662174</td>\n",
       "    </tr>\n",
       "    <tr>\n",
       "      <th>11</th>\n",
       "      <td>Strategy</td>\n",
       "      <td>173.27</td>\n",
       "      <td>1.966303</td>\n",
       "    </tr>\n",
       "  </tbody>\n",
       "</table>\n",
       "</div>"
      ],
      "text/plain": [
       "           Genre  Global_Sales    percent\n",
       "0         Action       1722.84  19.551133\n",
       "10        Sports       1309.24  14.857518\n",
       "8        Shooter       1026.20  11.645523\n",
       "7   Role-Playing        923.83  10.483808\n",
       "4       Platform        829.13   9.409133\n",
       "3           Misc        789.87   8.963603\n",
       "6         Racing        726.76   8.247418\n",
       "2       Fighting        444.05   5.039168\n",
       "9     Simulation        389.98   4.425571\n",
       "5         Puzzle        242.21   2.748648\n",
       "1      Adventure        234.59   2.662174\n",
       "11      Strategy        173.27   1.966303"
      ]
     },
     "execution_count": 47,
     "metadata": {},
     "output_type": "execute_result"
    }
   ],
   "source": [
    "Global_sale_genre['percent'] = (Global_sale_genre['Global_Sales'] / \n",
    "                  Global_sale_genre['Global_Sales'].sum()) * 100\n",
    "Global_sale_genre.sort_values(by = [\"percent\"], ascending = False)\n"
   ]
  },
  {
   "cell_type": "code",
   "execution_count": 42,
   "id": "2825c84f",
   "metadata": {},
   "outputs": [],
   "source": [
    "Global_sale_genre_pc['percentage'] = Global_sale_genre.groupby(['Global_Sales', 'Genre']).size().groupby(level=0).apply(lambda x: 100 * x / float(x.sum())).values\n"
   ]
  },
  {
   "cell_type": "code",
   "execution_count": 49,
   "id": "76dd243c",
   "metadata": {},
   "outputs": [
    {
     "data": {
      "text/plain": [
       "(array([ 0,  1,  2,  3,  4,  5,  6,  7,  8,  9, 10, 11]),\n",
       " [Text(0, 0, 'Action'),\n",
       "  Text(1, 0, 'Sports'),\n",
       "  Text(2, 0, 'Shooter'),\n",
       "  Text(3, 0, 'Role-Playing'),\n",
       "  Text(4, 0, 'Platform'),\n",
       "  Text(5, 0, 'Misc'),\n",
       "  Text(6, 0, 'Racing'),\n",
       "  Text(7, 0, 'Fighting'),\n",
       "  Text(8, 0, 'Simulation'),\n",
       "  Text(9, 0, 'Puzzle'),\n",
       "  Text(10, 0, 'Adventure'),\n",
       "  Text(11, 0, 'Strategy')])"
      ]
     },
     "execution_count": 49,
     "metadata": {},
     "output_type": "execute_result"
    },
    {
     "data": {
      "image/png": "[encoded data removed]",
      "text/plain": [
       "<Figure size 864x432 with 1 Axes>"
      ]
     },
     "metadata": {},
     "output_type": "display_data"
    }
   ],
   "source": [
    "sns.set_style(\"whitegrid\")\n",
    "#sns.set_style(\"dark\")\n",
    "sns.set(rc={\"figure.figsize\": (12.,6.)})\n",
    "sns.set_context(\"poster\")\n",
    "Global_sale_genre = Global_sale_genre.sort_values('Global_Sales',ascending=False)\n",
    "sns.barplot(x='Genre', y='Global_Sales', data=Global_sale_genre, errorbar=('ci', 0)).set(title='Genre with the most sales')\n",
    "\n",
    "plt.xticks(rotation=60)\n"
   ]
  },
  {
   "cell_type": "markdown",
   "id": "2a1cc60c",
   "metadata": {},
   "source": [
    "### Popular genre per region\n"
   ]
  },
  {
   "cell_type": "code",
   "execution_count": 48,
   "id": "083f4279",
   "metadata": {},
   "outputs": [
    {
     "data": {
      "text/plain": [
       "(array([ 0,  1,  2,  3,  4,  5,  6,  7,  8,  9, 10, 11]),\n",
       " [Text(0, 0, 'Action'),\n",
       "  Text(1, 0, 'Adventure'),\n",
       "  Text(2, 0, 'Fighting'),\n",
       "  Text(3, 0, 'Misc'),\n",
       "  Text(4, 0, 'Platform'),\n",
       "  Text(5, 0, 'Puzzle'),\n",
       "  Text(6, 0, 'Racing'),\n",
       "  Text(7, 0, 'Role-Playing'),\n",
       "  Text(8, 0, 'Shooter'),\n",
       "  Text(9, 0, 'Simulation'),\n",
       "  Text(10, 0, 'Sports'),\n",
       "  Text(11, 0, 'Strategy')])"
      ]
     },
     "execution_count": 48,
     "metadata": {},
     "output_type": "execute_result"
    },
    {
     "data": {
      "image/png": "[encoded data removed]",
      "text/plain": [
       "<Figure size 1080x720 with 1 Axes>"
      ]
     },
     "metadata": {},
     "output_type": "display_data"
    }
   ],
   "source": [
    "comp_genre = df_vg[['Genre', 'NA_Sales', 'EU_Sales', 'JP_Sales', 'Other_Sales']]\n",
    "# comp_genre\n",
    "compar_map = comp_genre.groupby(by=['Genre']).sum()\n",
    "popular = df_vg.groupby(\"Genre\").agg({\"NA_Sales\":\"sum\", \"EU_Sales\":\"sum\", \"JP_Sales\": \"sum\", \"Other_Sales\": \"sum\"})\n",
    "compar = compar_map.reset_index()\n",
    "compar = pd.melt(compar, id_vars=['Genre'], value_vars=['NA_Sales', 'EU_Sales', 'JP_Sales', 'Other_Sales'], var_name='Sale_Area', value_name='Sales')\n",
    "compar.head()\n",
    "\n",
    "plt.figure(figsize=(15, 10))\n",
    "sns.barplot(x='Genre', y='Sales', hue='Sale_Area', data=compar).set(title = \"Popular genre per region\")\n",
    "plt.legend(loc='center left', bbox_to_anchor=(1, 0.5))\n",
    "sns.set_style(\"dark\")\n",
    "plt.xticks(size=20, rotation=60)"
   ]
  },
  {
   "cell_type": "markdown",
   "id": "69d3f260",
   "metadata": {},
   "source": [
    "# 2- Video games platforms \n"
   ]
  },
  {
   "cell_type": "markdown",
   "id": "1707201b",
   "metadata": {},
   "source": [
    "### Platforms with the most games"
   ]
  },
  {
   "cell_type": "code",
   "execution_count": null,
   "id": "06a2e47e",
   "metadata": {},
   "outputs": [],
   "source": [
    "platform = df_vg[\"Platform\"].value_counts()\n",
    "platform\n",
    "sns.countplot(x=\"Platform\", data=df_vg, order = df_vg[\"Platform\"].value_counts().index).set(title='Platform with the most games')\n",
    "sns.color_palette(\"hls\", 8)\n",
    "plt.xticks(size=15, rotation=90)"
   ]
  },
  {
   "cell_type": "markdown",
   "id": "9a07713e",
   "metadata": {},
   "source": [
    "### The platform with the most sales\n"
   ]
  },
  {
   "cell_type": "code",
   "execution_count": null,
   "id": "e3c0293c",
   "metadata": {
    "scrolled": true
   },
   "outputs": [],
   "source": [
    "Global_sale_plat = df_vg.groupby(by=['Platform'])['Global_Sales'].sum().reset_index()\n",
    "#Global_sale_plat\n",
    "\n"
   ]
  },
  {
   "cell_type": "code",
   "execution_count": null,
   "id": "e5d5121a",
   "metadata": {},
   "outputs": [],
   "source": [
    "top_plat_sales = Global_sale_plat[Global_sale_plat['Global_Sales'] > 30]\n",
    "top_plat_sales = top_plat_sales.sort_values(by = [\"Global_Sales\"], ascending = False)\n",
    "platform_plot = sns.barplot(x='Platform', y='Global_Sales', data=top_plat_sales).set(title='Platform with the most sales')\n",
    "plt.xticks(size=20, rotation=70)\n"
   ]
  },
  {
   "cell_type": "markdown",
   "id": "a96874d7",
   "metadata": {},
   "source": [
    "# 3-Video games poularity over the years '1980-2020'"
   ]
  },
  {
   "cell_type": "markdown",
   "id": "b3c211af",
   "metadata": {},
   "source": [
    "## Global sales per genre per year\n",
    "Grouping per Genre and year to get the total global sales  \n",
    "Limiting the Global sales to the values larger than 700 million"
   ]
  },
  {
   "cell_type": "code",
   "execution_count": null,
   "id": "6a569bd0",
   "metadata": {},
   "outputs": [],
   "source": [
    "Global_sale_genre_year = df_vg.groupby(by=['Genre',\"Year\"])['Global_Sales'].sum().reset_index().sort_values(by = [\"Global_Sales\"], ascending = False)\n",
    "Global_sale_genre_year.sample()"
   ]
  },
  {
   "cell_type": "code",
   "execution_count": null,
   "id": "2142e7db",
   "metadata": {},
   "outputs": [],
   "source": [
    "top_genere_sales = Global_sale_genre[Global_sale_genre['Global_Sales'] > 700]\n",
    "top_genere_sales"
   ]
  },
  {
   "cell_type": "markdown",
   "id": "1cdf9f08",
   "metadata": {},
   "source": [
    "Crossing Genre values from 2 tables   \n",
    "-->top_genre_sales: where we limited the global sales value to 700  \n",
    "-->Global_sale_genre_year : where we filter by genre"
   ]
  },
  {
   "cell_type": "code",
   "execution_count": null,
   "id": "cbfc78e3",
   "metadata": {},
   "outputs": [],
   "source": [
    "Global_sale_genre_year = Global_sale_genre_year[Global_sale_genre_year['Genre'].isin(top_genere_sales['Genre'])]\n"
   ]
  },
  {
   "cell_type": "code",
   "execution_count": null,
   "id": "3af2759d",
   "metadata": {
    "scrolled": false
   },
   "outputs": [],
   "source": [
    "#line plot sales per genre per year\n",
    "sns.set(rc={\"figure.figsize\": (15.,8.)})\n",
    "\n",
    "line =sns.lineplot(x = \"Year\", y= \"Global_Sales\", hue = \"Genre\",data = Global_sale_genre_year)\n",
    "line.set_title(\"Global sales per genre over the years '1980-2020'\",fontsize=20)\n",
    "sns.set(font_scale=1)\n",
    "sns.despine()\n"
   ]
  },
  {
   "cell_type": "markdown",
   "id": "172b017d",
   "metadata": {},
   "source": [
    "# Year with the most Sales\n",
    "Limiting the years starting from 1990, the sales value before are very low"
   ]
  },
  {
   "cell_type": "code",
   "execution_count": 52,
   "id": "b5366b05",
   "metadata": {},
   "outputs": [],
   "source": [
    "df_vg[\"Year\"] = df_vg[\"Year\"].astype(int)\n"
   ]
  },
  {
   "cell_type": "code",
   "execution_count": 53,
   "id": "9eb4bdd8",
   "metadata": {},
   "outputs": [
    {
     "data": {
      "text/plain": [
       "(array([ 0,  1,  2,  3,  4,  5,  6,  7,  8,  9, 10, 11, 12, 13, 14, 15, 16,\n",
       "        17, 18, 19, 20, 21, 22, 23, 24, 25, 26, 27]),\n",
       " [Text(0, 0, '2009'),\n",
       "  Text(1, 0, '2008'),\n",
       "  Text(2, 0, '2010'),\n",
       "  Text(3, 0, '2007'),\n",
       "  Text(4, 0, '2011'),\n",
       "  Text(5, 0, '2006'),\n",
       "  Text(6, 0, '2005'),\n",
       "  Text(7, 0, '2002'),\n",
       "  Text(8, 0, '2003'),\n",
       "  Text(9, 0, '2004'),\n",
       "  Text(10, 0, '2012'),\n",
       "  Text(11, 0, '2015'),\n",
       "  Text(12, 0, '2014'),\n",
       "  Text(13, 0, '2013'),\n",
       "  Text(14, 0, '2001'),\n",
       "  Text(15, 0, '1998'),\n",
       "  Text(16, 0, '2000'),\n",
       "  Text(17, 0, '2016'),\n",
       "  Text(18, 0, '1999'),\n",
       "  Text(19, 0, '1997'),\n",
       "  Text(20, 0, '1996'),\n",
       "  Text(21, 0, '1995'),\n",
       "  Text(22, 0, '1994'),\n",
       "  Text(23, 0, '1993'),\n",
       "  Text(24, 0, '1992'),\n",
       "  Text(25, 0, '1991'),\n",
       "  Text(26, 0, '2017'),\n",
       "  Text(27, 0, '2020')])"
      ]
     },
     "execution_count": 53,
     "metadata": {},
     "output_type": "execute_result"
    },
    {
     "data": {
      "image/png": "[encoded data removed]",
      "text/plain": [
       "<Figure size 864x432 with 1 Axes>"
      ]
     },
     "metadata": {},
     "output_type": "display_data"
    }
   ],
   "source": [
    "year_vg = df_vg[df_vg['Year'] > 1990]\n",
    "sns.set(font_scale=2)\n",
    "sns.countplot(x=\"Year\", data=year_vg, order = year_vg.groupby(by=['Year'])['Name'].count().sort_values(ascending=False).index).set(title='Year with the most sales')\n",
    "#plot1.set(xlabel='Year', ylabel='Global sales')\n",
    "plt.xlabel('Year')\n",
    "plt.ylabel('Global Sales')\n",
    "plt.xticks(rotation=60)\n",
    "#this is release not sale"
   ]
  },
  {
   "cell_type": "code",
   "execution_count": 67,
   "id": "1588c546",
   "metadata": {},
   "outputs": [
    {
     "data": {
      "text/html": [
       "<div>\n",
       "<style scoped>\n",
       "    .dataframe tbody tr th:only-of-type {\n",
       "        vertical-align: middle;\n",
       "    }\n",
       "\n",
       "    .dataframe tbody tr th {\n",
       "        vertical-align: top;\n",
       "    }\n",
       "\n",
       "    .dataframe thead th {\n",
       "        text-align: right;\n",
       "    }\n",
       "</style>\n",
       "<table border=\"1\" class=\"dataframe\">\n",
       "  <thead>\n",
       "    <tr style=\"text-align: right;\">\n",
       "      <th></th>\n",
       "      <th>Year</th>\n",
       "      <th>Global_Sales</th>\n",
       "    </tr>\n",
       "  </thead>\n",
       "  <tbody>\n",
       "    <tr>\n",
       "      <th>28</th>\n",
       "      <td>2008</td>\n",
       "      <td>678.90</td>\n",
       "    </tr>\n",
       "    <tr>\n",
       "      <th>29</th>\n",
       "      <td>2009</td>\n",
       "      <td>667.30</td>\n",
       "    </tr>\n",
       "    <tr>\n",
       "      <th>27</th>\n",
       "      <td>2007</td>\n",
       "      <td>609.92</td>\n",
       "    </tr>\n",
       "    <tr>\n",
       "      <th>30</th>\n",
       "      <td>2010</td>\n",
       "      <td>600.29</td>\n",
       "    </tr>\n",
       "    <tr>\n",
       "      <th>26</th>\n",
       "      <td>2006</td>\n",
       "      <td>521.04</td>\n",
       "    </tr>\n",
       "    <tr>\n",
       "      <th>31</th>\n",
       "      <td>2011</td>\n",
       "      <td>515.80</td>\n",
       "    </tr>\n",
       "  </tbody>\n",
       "</table>\n",
       "</div>"
      ],
      "text/plain": [
       "    Year  Global_Sales\n",
       "28  2008        678.90\n",
       "29  2009        667.30\n",
       "27  2007        609.92\n",
       "30  2010        600.29\n",
       "26  2006        521.04\n",
       "31  2011        515.80"
      ]
     },
     "execution_count": 67,
     "metadata": {},
     "output_type": "execute_result"
    }
   ],
   "source": [
    "Global_sale_top_year = df_vg.groupby(by=[\"Year\"])['Global_Sales'].sum().reset_index().sort_values(by = [\"Year\"], ascending = False)\n",
    "sort = Global_sale_top_year.sort_values('Global_Sales',ascending=False)\n",
    "\n",
    "sort.head(6)\n"
   ]
  },
  {
   "cell_type": "code",
   "execution_count": 55,
   "id": "8aec9373",
   "metadata": {
    "scrolled": false
   },
   "outputs": [
    {
     "data": {
      "text/plain": [
       "Text(0.5, 1.0, \"Evolution of Global sales over the years '1980-2020'\")"
      ]
     },
     "execution_count": 55,
     "metadata": {},
     "output_type": "execute_result"
    },
    {
     "data": {
      "image/png": "[encoded data removed]",
      "text/plain": [
       "<Figure size 864x432 with 1 Axes>"
      ]
     },
     "metadata": {},
     "output_type": "display_data"
    }
   ],
   "source": [
    "Global_sale_top_year = df_vg.groupby(by=[\"Year\"])['Global_Sales'].sum().reset_index().sort_values(by = [\"Year\"], ascending = False)\n",
    "\n",
    "\n",
    "line2 = sns.lineplot(x = \"Year\", y= \"Global_Sales\",data = Global_sale_top_year)\n",
    "line2.set_title(\"Evolution of Global sales over the years '1980-2020'\",fontsize=20)"
   ]
  },
  {
   "cell_type": "code",
   "execution_count": 56,
   "id": "27d8caa4",
   "metadata": {
    "scrolled": true
   },
   "outputs": [
    {
     "data": {
      "text/html": [
       "<div>\n",
       "<style scoped>\n",
       "    .dataframe tbody tr th:only-of-type {\n",
       "        vertical-align: middle;\n",
       "    }\n",
       "\n",
       "    .dataframe tbody tr th {\n",
       "        vertical-align: top;\n",
       "    }\n",
       "\n",
       "    .dataframe thead th {\n",
       "        text-align: right;\n",
       "    }\n",
       "</style>\n",
       "<table border=\"1\" class=\"dataframe\">\n",
       "  <thead>\n",
       "    <tr style=\"text-align: right;\">\n",
       "      <th></th>\n",
       "      <th>NA_Sales</th>\n",
       "      <th>EU_Sales</th>\n",
       "      <th>JP_Sales</th>\n",
       "      <th>Other_Sales</th>\n",
       "    </tr>\n",
       "    <tr>\n",
       "      <th>Year</th>\n",
       "      <th></th>\n",
       "      <th></th>\n",
       "      <th></th>\n",
       "      <th></th>\n",
       "    </tr>\n",
       "  </thead>\n",
       "  <tbody>\n",
       "    <tr>\n",
       "      <th>1980</th>\n",
       "      <td>10.59</td>\n",
       "      <td>0.67</td>\n",
       "      <td>0.00</td>\n",
       "      <td>0.12</td>\n",
       "    </tr>\n",
       "    <tr>\n",
       "      <th>1981</th>\n",
       "      <td>33.40</td>\n",
       "      <td>1.96</td>\n",
       "      <td>0.00</td>\n",
       "      <td>0.32</td>\n",
       "    </tr>\n",
       "    <tr>\n",
       "      <th>1982</th>\n",
       "      <td>26.92</td>\n",
       "      <td>1.65</td>\n",
       "      <td>0.00</td>\n",
       "      <td>0.31</td>\n",
       "    </tr>\n",
       "    <tr>\n",
       "      <th>1983</th>\n",
       "      <td>7.76</td>\n",
       "      <td>0.80</td>\n",
       "      <td>8.10</td>\n",
       "      <td>0.14</td>\n",
       "    </tr>\n",
       "    <tr>\n",
       "      <th>1984</th>\n",
       "      <td>33.28</td>\n",
       "      <td>2.10</td>\n",
       "      <td>14.27</td>\n",
       "      <td>0.70</td>\n",
       "    </tr>\n",
       "    <tr>\n",
       "      <th>1985</th>\n",
       "      <td>33.73</td>\n",
       "      <td>4.74</td>\n",
       "      <td>14.56</td>\n",
       "      <td>0.92</td>\n",
       "    </tr>\n",
       "    <tr>\n",
       "      <th>1986</th>\n",
       "      <td>12.50</td>\n",
       "      <td>2.84</td>\n",
       "      <td>19.81</td>\n",
       "      <td>1.93</td>\n",
       "    </tr>\n",
       "    <tr>\n",
       "      <th>1987</th>\n",
       "      <td>8.46</td>\n",
       "      <td>1.41</td>\n",
       "      <td>11.63</td>\n",
       "      <td>0.20</td>\n",
       "    </tr>\n",
       "    <tr>\n",
       "      <th>1988</th>\n",
       "      <td>23.87</td>\n",
       "      <td>6.59</td>\n",
       "      <td>15.76</td>\n",
       "      <td>0.99</td>\n",
       "    </tr>\n",
       "    <tr>\n",
       "      <th>1989</th>\n",
       "      <td>45.15</td>\n",
       "      <td>8.44</td>\n",
       "      <td>18.36</td>\n",
       "      <td>1.50</td>\n",
       "    </tr>\n",
       "    <tr>\n",
       "      <th>1990</th>\n",
       "      <td>25.46</td>\n",
       "      <td>7.63</td>\n",
       "      <td>14.88</td>\n",
       "      <td>1.40</td>\n",
       "    </tr>\n",
       "    <tr>\n",
       "      <th>1991</th>\n",
       "      <td>12.76</td>\n",
       "      <td>3.95</td>\n",
       "      <td>14.78</td>\n",
       "      <td>0.74</td>\n",
       "    </tr>\n",
       "    <tr>\n",
       "      <th>1992</th>\n",
       "      <td>33.87</td>\n",
       "      <td>11.71</td>\n",
       "      <td>28.91</td>\n",
       "      <td>1.65</td>\n",
       "    </tr>\n",
       "    <tr>\n",
       "      <th>1993</th>\n",
       "      <td>15.12</td>\n",
       "      <td>4.65</td>\n",
       "      <td>25.33</td>\n",
       "      <td>0.89</td>\n",
       "    </tr>\n",
       "    <tr>\n",
       "      <th>1994</th>\n",
       "      <td>28.15</td>\n",
       "      <td>14.88</td>\n",
       "      <td>33.99</td>\n",
       "      <td>2.20</td>\n",
       "    </tr>\n",
       "    <tr>\n",
       "      <th>1995</th>\n",
       "      <td>24.82</td>\n",
       "      <td>14.90</td>\n",
       "      <td>45.75</td>\n",
       "      <td>2.64</td>\n",
       "    </tr>\n",
       "    <tr>\n",
       "      <th>1996</th>\n",
       "      <td>86.76</td>\n",
       "      <td>47.26</td>\n",
       "      <td>57.44</td>\n",
       "      <td>7.69</td>\n",
       "    </tr>\n",
       "    <tr>\n",
       "      <th>1997</th>\n",
       "      <td>94.75</td>\n",
       "      <td>48.32</td>\n",
       "      <td>48.87</td>\n",
       "      <td>9.13</td>\n",
       "    </tr>\n",
       "    <tr>\n",
       "      <th>1998</th>\n",
       "      <td>128.36</td>\n",
       "      <td>66.90</td>\n",
       "      <td>50.04</td>\n",
       "      <td>11.03</td>\n",
       "    </tr>\n",
       "    <tr>\n",
       "      <th>1999</th>\n",
       "      <td>126.06</td>\n",
       "      <td>62.67</td>\n",
       "      <td>52.34</td>\n",
       "      <td>10.05</td>\n",
       "    </tr>\n",
       "    <tr>\n",
       "      <th>2000</th>\n",
       "      <td>94.49</td>\n",
       "      <td>52.75</td>\n",
       "      <td>42.77</td>\n",
       "      <td>11.62</td>\n",
       "    </tr>\n",
       "    <tr>\n",
       "      <th>2001</th>\n",
       "      <td>173.98</td>\n",
       "      <td>94.89</td>\n",
       "      <td>39.86</td>\n",
       "      <td>22.76</td>\n",
       "    </tr>\n",
       "    <tr>\n",
       "      <th>2002</th>\n",
       "      <td>216.19</td>\n",
       "      <td>109.74</td>\n",
       "      <td>41.76</td>\n",
       "      <td>27.28</td>\n",
       "    </tr>\n",
       "    <tr>\n",
       "      <th>2003</th>\n",
       "      <td>193.59</td>\n",
       "      <td>103.81</td>\n",
       "      <td>34.20</td>\n",
       "      <td>26.01</td>\n",
       "    </tr>\n",
       "    <tr>\n",
       "      <th>2004</th>\n",
       "      <td>218.80</td>\n",
       "      <td>105.92</td>\n",
       "      <td>41.65</td>\n",
       "      <td>47.24</td>\n",
       "    </tr>\n",
       "    <tr>\n",
       "      <th>2005</th>\n",
       "      <td>241.58</td>\n",
       "      <td>121.56</td>\n",
       "      <td>54.28</td>\n",
       "      <td>40.55</td>\n",
       "    </tr>\n",
       "    <tr>\n",
       "      <th>2006</th>\n",
       "      <td>263.12</td>\n",
       "      <td>129.24</td>\n",
       "      <td>73.73</td>\n",
       "      <td>54.43</td>\n",
       "    </tr>\n",
       "    <tr>\n",
       "      <th>2007</th>\n",
       "      <td>311.18</td>\n",
       "      <td>160.18</td>\n",
       "      <td>60.29</td>\n",
       "      <td>77.58</td>\n",
       "    </tr>\n",
       "    <tr>\n",
       "      <th>2008</th>\n",
       "      <td>351.44</td>\n",
       "      <td>184.40</td>\n",
       "      <td>60.26</td>\n",
       "      <td>82.39</td>\n",
       "    </tr>\n",
       "    <tr>\n",
       "      <th>2009</th>\n",
       "      <td>338.85</td>\n",
       "      <td>191.59</td>\n",
       "      <td>61.89</td>\n",
       "      <td>74.77</td>\n",
       "    </tr>\n",
       "    <tr>\n",
       "      <th>2010</th>\n",
       "      <td>304.24</td>\n",
       "      <td>176.57</td>\n",
       "      <td>59.49</td>\n",
       "      <td>59.90</td>\n",
       "    </tr>\n",
       "    <tr>\n",
       "      <th>2011</th>\n",
       "      <td>241.00</td>\n",
       "      <td>167.31</td>\n",
       "      <td>53.04</td>\n",
       "      <td>54.39</td>\n",
       "    </tr>\n",
       "    <tr>\n",
       "      <th>2012</th>\n",
       "      <td>154.93</td>\n",
       "      <td>118.76</td>\n",
       "      <td>51.74</td>\n",
       "      <td>37.82</td>\n",
       "    </tr>\n",
       "    <tr>\n",
       "      <th>2013</th>\n",
       "      <td>154.77</td>\n",
       "      <td>125.80</td>\n",
       "      <td>47.59</td>\n",
       "      <td>39.82</td>\n",
       "    </tr>\n",
       "    <tr>\n",
       "      <th>2014</th>\n",
       "      <td>131.97</td>\n",
       "      <td>125.63</td>\n",
       "      <td>39.46</td>\n",
       "      <td>40.02</td>\n",
       "    </tr>\n",
       "    <tr>\n",
       "      <th>2015</th>\n",
       "      <td>102.82</td>\n",
       "      <td>97.71</td>\n",
       "      <td>33.72</td>\n",
       "      <td>30.01</td>\n",
       "    </tr>\n",
       "    <tr>\n",
       "      <th>2016</th>\n",
       "      <td>22.66</td>\n",
       "      <td>26.76</td>\n",
       "      <td>13.67</td>\n",
       "      <td>7.75</td>\n",
       "    </tr>\n",
       "    <tr>\n",
       "      <th>2017</th>\n",
       "      <td>0.00</td>\n",
       "      <td>0.00</td>\n",
       "      <td>0.05</td>\n",
       "      <td>0.00</td>\n",
       "    </tr>\n",
       "    <tr>\n",
       "      <th>2020</th>\n",
       "      <td>0.27</td>\n",
       "      <td>0.00</td>\n",
       "      <td>0.00</td>\n",
       "      <td>0.02</td>\n",
       "    </tr>\n",
       "  </tbody>\n",
       "</table>\n",
       "</div>"
      ],
      "text/plain": [
       "      NA_Sales  EU_Sales  JP_Sales  Other_Sales\n",
       "Year                                           \n",
       "1980     10.59      0.67      0.00         0.12\n",
       "1981     33.40      1.96      0.00         0.32\n",
       "1982     26.92      1.65      0.00         0.31\n",
       "1983      7.76      0.80      8.10         0.14\n",
       "1984     33.28      2.10     14.27         0.70\n",
       "1985     33.73      4.74     14.56         0.92\n",
       "1986     12.50      2.84     19.81         1.93\n",
       "1987      8.46      1.41     11.63         0.20\n",
       "1988     23.87      6.59     15.76         0.99\n",
       "1989     45.15      8.44     18.36         1.50\n",
       "1990     25.46      7.63     14.88         1.40\n",
       "1991     12.76      3.95     14.78         0.74\n",
       "1992     33.87     11.71     28.91         1.65\n",
       "1993     15.12      4.65     25.33         0.89\n",
       "1994     28.15     14.88     33.99         2.20\n",
       "1995     24.82     14.90     45.75         2.64\n",
       "1996     86.76     47.26     57.44         7.69\n",
       "1997     94.75     48.32     48.87         9.13\n",
       "1998    128.36     66.90     50.04        11.03\n",
       "1999    126.06     62.67     52.34        10.05\n",
       "2000     94.49     52.75     42.77        11.62\n",
       "2001    173.98     94.89     39.86        22.76\n",
       "2002    216.19    109.74     41.76        27.28\n",
       "2003    193.59    103.81     34.20        26.01\n",
       "2004    218.80    105.92     41.65        47.24\n",
       "2005    241.58    121.56     54.28        40.55\n",
       "2006    263.12    129.24     73.73        54.43\n",
       "2007    311.18    160.18     60.29        77.58\n",
       "2008    351.44    184.40     60.26        82.39\n",
       "2009    338.85    191.59     61.89        74.77\n",
       "2010    304.24    176.57     59.49        59.90\n",
       "2011    241.00    167.31     53.04        54.39\n",
       "2012    154.93    118.76     51.74        37.82\n",
       "2013    154.77    125.80     47.59        39.82\n",
       "2014    131.97    125.63     39.46        40.02\n",
       "2015    102.82     97.71     33.72        30.01\n",
       "2016     22.66     26.76     13.67         7.75\n",
       "2017      0.00      0.00      0.05         0.00\n",
       "2020      0.27      0.00      0.00         0.02"
      ]
     },
     "execution_count": 56,
     "metadata": {},
     "output_type": "execute_result"
    }
   ],
   "source": [
    "test_agg_year_genre= df_vg.groupby([\"Year\"]).agg({\"NA_Sales\":\"sum\", \"EU_Sales\":\"sum\", \"JP_Sales\": \"sum\", \"Other_Sales\": \"sum\"})\n",
    "test_agg_year_genre"
   ]
  },
  {
   "cell_type": "code",
   "execution_count": null,
   "id": "5cab24e5",
   "metadata": {},
   "outputs": [],
   "source": [
    "\n"
   ]
  },
  {
   "cell_type": "code",
   "execution_count": 57,
   "id": "d0eaa220",
   "metadata": {},
   "outputs": [],
   "source": [
    "top_sale_region_year = df_vg.groupby(by=[\"Year\"])[['NA_Sales', 'EU_Sales', 'JP_Sales', 'Other_Sales']].sum().reset_index()\n",
    "melt_plot = top_sale_region_year.melt(id_vars=[\"Year\"], var_name=\"Region\", value_name=\"Total\")\n",
    "melt_plot = melt_plot.sort_values('Total',ascending=False)\n"
   ]
  },
  {
   "cell_type": "code",
   "execution_count": null,
   "id": "4aa51aaf",
   "metadata": {},
   "outputs": [],
   "source": [
    "hey = melt_plot.groupby([\"Region\"])[\"Total\"].sum()\n"
   ]
  },
  {
   "cell_type": "code",
   "execution_count": null,
   "id": "7da7780c",
   "metadata": {
    "scrolled": true
   },
   "outputs": [],
   "source": [
    "#data_top_genre_year"
   ]
  },
  {
   "cell_type": "code",
   "execution_count": 60,
   "id": "0c521cb3",
   "metadata": {},
   "outputs": [],
   "source": []
  },
  {
   "cell_type": "code",
   "execution_count": null,
   "id": "48329dd2",
   "metadata": {},
   "outputs": [],
   "source": []
  },
  {
   "cell_type": "code",
   "execution_count": null,
   "id": "b8d8735e",
   "metadata": {},
   "outputs": [],
   "source": [
    "\n",
    "    df = df.rename(columns=\"NA_Sales\": \"region\", inplace=True)\n",
    "    df = df.rename(columns={\"EU_Sales\":f\"{region}\"}, inplace=True)\n",
    "    df = df.rename(columns={\"JP_Sales\":f\"{region}\"}, inplace=True)\n",
    "    return(df)\n"
   ]
  },
  {
   "cell_type": "code",
   "execution_count": null,
   "id": "480b1d07",
   "metadata": {},
   "outputs": [],
   "source": [
    "top_sale_region = df_vg[['NA_Sales', 'EU_Sales', 'JP_Sales', 'Other_Sales']]\n",
    "top_sale_region = top_sale_region.sum().reset_index()\n",
    "top_sale_region = top_sale_region.rename(columns={'index': 'Region', 0: 'Sale'})\n",
    "top_sale_region"
   ]
  },
  {
   "cell_type": "code",
   "execution_count": null,
   "id": "c50ceed5",
   "metadata": {},
   "outputs": [],
   "source": []
  },
  {
   "cell_type": "code",
   "execution_count": null,
   "id": "81f9ad61",
   "metadata": {},
   "outputs": [],
   "source": []
  },
  {
   "cell_type": "code",
   "execution_count": null,
   "id": "3b06d7a4",
   "metadata": {},
   "outputs": [],
   "source": [
    "plt.figure(figsize=(12, 8))\n",
    "#sns.barplot(x='Region', y='Total', data = melt_plot, title=\"Global sales per region\")\n",
    "sns.barplot(x='Region', y='Total', data = melt_plot, ci= 0)\n",
    "sns.barplot"
   ]
  },
  {
   "cell_type": "markdown",
   "id": "c94480de",
   "metadata": {},
   "source": [
    "# 4-Crossing data using API"
   ]
  },
  {
   "cell_type": "markdown",
   "id": "c5316795",
   "metadata": {},
   "source": [
    "We are getting data from the website World Bank using API.  \n",
    "The data we are intested in, is the birth rate globally and per region ( according to regions we have in our dataframe)  \n",
    "\n",
    "*For global birth rate --> https://api.worldbank.org/v2/country/WLD/indicator/SP.DYN.CBRT.IN?format=json.  \n",
    "\n",
    "*For North America birth rate --> https://api.worldbank.org/v2/country/NAC/indicator/SP.DYN.CBRT.IN?format=json.\n",
    "\n",
    "*For EU rate --> https://api.worldbank.org/v2/country/EUU/indicator/SP.DYN.CBRT.IN?format=json.   \n",
    "\n",
    "*For Japan birth rate -->  https://api.worldbank.org/v2/country/JPN/indicator/SP.DYN.CBRT.IN?format=json.  \n",
    "\n",
    "\n",
    "\n",
    "\n",
    "\n"
   ]
  },
  {
   "cell_type": "code",
   "execution_count": null,
   "id": "8be3b0ee",
   "metadata": {},
   "outputs": [],
   "source": [
    "import requests"
   ]
  },
  {
   "cell_type": "code",
   "execution_count": null,
   "id": "d5771de8",
   "metadata": {},
   "outputs": [],
   "source": []
  },
  {
   "cell_type": "code",
   "execution_count": null,
   "id": "313fe18f",
   "metadata": {},
   "outputs": [],
   "source": [
    "def api_birth_region(region):\n",
    "    response_req = requests.get(f\"https://api.worldbank.org/v2/country/{region}/indicator/SP.DYN.CBRT.IN?format=json\")\n",
    "    df = pd.DataFrame.from_dict(response_req.json()[1], orient = \"columns\")\n",
    "    df = df.drop(columns=[\"indicator\",\"country\",\"decimal\",\"countryiso3code\",\"obs_status\",\"unit\"])\n",
    "    df.rename(columns={\"value\":f\"{region}_birth\"}, inplace=True)\n",
    "    df[\"date\"] = df[\"date\"].astype(int)\n",
    "    return df"
   ]
  },
  {
   "cell_type": "code",
   "execution_count": null,
   "id": "39a79811",
   "metadata": {
    "scrolled": true
   },
   "outputs": [],
   "source": [
    "api_birth_region(\"WLD\").head()"
   ]
  },
  {
   "cell_type": "code",
   "execution_count": null,
   "id": "1a8dcc1f",
   "metadata": {},
   "outputs": [],
   "source": [
    "df_birth = api_birth_region(\"WLD\")\n"
   ]
  },
  {
   "cell_type": "code",
   "execution_count": null,
   "id": "b853d9a2",
   "metadata": {},
   "outputs": [],
   "source": [
    "Global_sale_top_year[\"Year\"] = Global_sale_top_year[\"Year\"].astype(int)\n",
    "\n"
   ]
  },
  {
   "cell_type": "code",
   "execution_count": null,
   "id": "82e79873",
   "metadata": {},
   "outputs": [],
   "source": [
    "#merge global with global birth rate per 1000 people\n",
    "b = pd.merge(df_birth, Global_sale_top_year, how = \"inner\", left_on = \"date\", right_on = \"Year\")\n"
   ]
  },
  {
   "cell_type": "code",
   "execution_count": null,
   "id": "0534ab91",
   "metadata": {
    "scrolled": true
   },
   "outputs": [],
   "source": [
    "b.head()\n"
   ]
  },
  {
   "cell_type": "markdown",
   "id": "6776fc23",
   "metadata": {},
   "source": [
    "Source :https://data.worldbank.org/indicator/SP.DYN.CBRT.IN?end=2020&start=1960&view=chart"
   ]
  },
  {
   "cell_type": "code",
   "execution_count": null,
   "id": "eeb7617a",
   "metadata": {},
   "outputs": [],
   "source": [
    "ax2 = sns.lineplot(data=b,x = \"Year\", y = \"WLD_birth\", color=\"g\")\n",
    "ax2 = plt.twinx()\n",
    "ax2.set_ylabel(\"Global_Sales\",fontsize=20)\n",
    "sns.lineplot(data=b,x = \"Year\", y =\"Global_Sales\", color=\"b\", ax=ax2)\n",
    "g.set_title(\"Evolution of Global sales over the years '1980-2020'\",fontsize=20)\n",
    "g.set_xlabel(\"Year\",fontsize=30)\n",
    "g.set_ylabel(\"WLD_birth\",fontsize=30)\n",
    "#ax2.tick_params(labelsize=20)"
   ]
  },
  {
   "cell_type": "code",
   "execution_count": null,
   "id": "93a9c669",
   "metadata": {},
   "outputs": [],
   "source": [
    "sns.lineplot(data=b,x = \"Year\", y = \"WLD_birth\", color=\"g\")\n",
    "ax2 = plt.twinx()\n",
    "sns.lineplot(data=b,x = \"Year\", y =\"Global_Sales\", color=\"b\", ax=ax2)\n"
   ]
  },
  {
   "cell_type": "code",
   "execution_count": null,
   "id": "2aabd4e7",
   "metadata": {},
   "outputs": [],
   "source": [
    "df_corr = b.drop(columns=[\"Year\",\"date\"])\n",
    "df_corr.corr()"
   ]
  },
  {
   "cell_type": "code",
   "execution_count": null,
   "id": "9c928f45",
   "metadata": {
    "scrolled": true
   },
   "outputs": [],
   "source": [
    "regional_sale_top_year = df_vg.groupby(by=[\"Year\"])['NA_Sales','EU_Sales','JP_Sales'].sum().reset_index().sort_values(by = [\"Year\"], ascending = False)\n",
    "regional_sale_top_year"
   ]
  },
  {
   "cell_type": "code",
   "execution_count": null,
   "id": "94ef800e",
   "metadata": {},
   "outputs": [],
   "source": [
    "#https://api.worldbank.org/v2/country/EUU/indicator/SP.DYN.CBRT.IN?format=json"
   ]
  },
  {
   "cell_type": "code",
   "execution_count": null,
   "id": "ad74e31a",
   "metadata": {
    "scrolled": true
   },
   "outputs": [],
   "source": [
    "api_birth_region(\"EUU\").sample()\n"
   ]
  },
  {
   "cell_type": "code",
   "execution_count": null,
   "id": "18c3876a",
   "metadata": {},
   "outputs": [],
   "source": [
    "EUU_birth = api_birth_region(\"EUU\")\n"
   ]
  },
  {
   "cell_type": "code",
   "execution_count": null,
   "id": "435e61ce",
   "metadata": {},
   "outputs": [],
   "source": [
    "EUU_sale_top_year = df_vg.groupby(by=[\"Year\"])['EU_Sales'].sum().reset_index().sort_values(by = [\"Year\"], ascending = False)\n",
    "EUU_sale_top_year"
   ]
  },
  {
   "cell_type": "code",
   "execution_count": null,
   "id": "703ec15a",
   "metadata": {},
   "outputs": [],
   "source": [
    "#merge EUU sales with global birth rate per 1000 people\n",
    "c = pd.merge(EUU_birth, EUU_sale_top_year, how = \"inner\", left_on = \"date\", right_on = \"Year\")\n",
    "c.head()"
   ]
  },
  {
   "cell_type": "code",
   "execution_count": null,
   "id": "a4dc32df",
   "metadata": {},
   "outputs": [],
   "source": [
    "sns.lineplot(data=c,x = \"Year\", y = \"EUU_birth\", color=\"g\")\n",
    "ax2 = plt.twinx()\n",
    "sns.lineplot(data=c,x = \"Year\", y =\"EU_Sales\", color=\"b\", ax=ax2)"
   ]
  },
  {
   "cell_type": "code",
   "execution_count": null,
   "id": "b1d992ca",
   "metadata": {},
   "outputs": [],
   "source": [
    "#https://api.worldbank.org/v2/country/NAC/indicator/SP.DYN.CBRT.IN?format=json\n",
    "api_birth_region(\"NAC\").head()\n"
   ]
  },
  {
   "cell_type": "code",
   "execution_count": null,
   "id": "e18f5ed3",
   "metadata": {},
   "outputs": [],
   "source": [
    "NA_birth = api_birth_region(\"NAC\")\n",
    "NA_birth.head()"
   ]
  },
  {
   "cell_type": "code",
   "execution_count": null,
   "id": "7e6f89fe",
   "metadata": {},
   "outputs": [],
   "source": [
    "NA_sale_top_year = df_vg.groupby(by=[\"Year\"])['NA_Sales'].sum().reset_index().sort_values(by = [\"Year\"], ascending = False)\n"
   ]
  },
  {
   "cell_type": "code",
   "execution_count": null,
   "id": "5d9fbd0d",
   "metadata": {},
   "outputs": [],
   "source": [
    "#merge NA sales with global birth rate per 1000 people\n",
    "d = pd.merge(NA_birth, NA_sale_top_year, how = \"inner\", left_on = \"date\", right_on = \"Year\")\n"
   ]
  },
  {
   "cell_type": "code",
   "execution_count": null,
   "id": "54f9de79",
   "metadata": {},
   "outputs": [],
   "source": [
    "sns.lineplot(data=d,x = \"date\", y = \"NAC_birth\", color=\"g\")\n",
    "ax2 = plt.twinx()\n",
    "sns.lineplot(data=d,x = \"date\", y =\"NA_Sales\", color=\"b\", ax=ax2)"
   ]
  },
  {
   "cell_type": "code",
   "execution_count": null,
   "id": "4f9cabba",
   "metadata": {},
   "outputs": [],
   "source": [
    "df1_corr = d.drop(columns=[\"Year\",\"date\"])\n",
    "df1_corr.corr()"
   ]
  },
  {
   "cell_type": "code",
   "execution_count": null,
   "id": "d7b5da35",
   "metadata": {},
   "outputs": [],
   "source": [
    "#https://api.worldbank.org/v2/country/JPN/indicator/SP.DYN.CBRT.IN?format=json\n",
    "api_birth_region(\"JPN\").head()"
   ]
  },
  {
   "cell_type": "code",
   "execution_count": null,
   "id": "dae8964e",
   "metadata": {},
   "outputs": [],
   "source": [
    "JP_birth = api_birth_region(\"JPN\")\n"
   ]
  },
  {
   "cell_type": "code",
   "execution_count": null,
   "id": "186e9453",
   "metadata": {},
   "outputs": [],
   "source": [
    "JP_birth.head()"
   ]
  },
  {
   "cell_type": "code",
   "execution_count": null,
   "id": "670d3782",
   "metadata": {},
   "outputs": [],
   "source": [
    "JP_sale_top_year = df_vg.groupby(by=[\"Year\"])['JP_Sales'].sum().reset_index().sort_values(by = [\"Year\"], ascending = False)\n",
    "JP_sale_top_year.head()"
   ]
  },
  {
   "cell_type": "code",
   "execution_count": null,
   "id": "8cb7ccfa",
   "metadata": {},
   "outputs": [],
   "source": [
    "#merge NA sales with global birth rate per 1000 people\n",
    "j = pd.merge(JP_birth, JP_sale_top_year, how = \"inner\", left_on = \"date\", right_on = \"Year\")\n",
    "j.head()"
   ]
  },
  {
   "cell_type": "code",
   "execution_count": null,
   "id": "6f792c6f",
   "metadata": {},
   "outputs": [],
   "source": [
    "sns.lineplot(data=j,x = \"Year\", y = \"JPN_birth\", color=\"g\")\n",
    "ax2 = plt.twinx()\n",
    "sns.lineplot(data=j,x = \"Year\", y =\"JP_Sales\", color=\"b\", ax=ax2)"
   ]
  },
  {
   "cell_type": "code",
   "execution_count": null,
   "id": "2edb25e1",
   "metadata": {
    "scrolled": true
   },
   "outputs": [],
   "source": []
  },
  {
   "cell_type": "code",
   "execution_count": null,
   "id": "e7915b80",
   "metadata": {},
   "outputs": [],
   "source": []
  }
 ],
 "metadata": {
  "kernelspec": {
   "display_name": "ironhack",
   "language": "python",
   "name": "ironhack"
  },
  "language_info": {
   "codemirror_mode": {
    "name": "ipython",
    "version": 3
   },
   "file_extension": ".py",
   "mimetype": "text/x-python",
   "name": "python",
   "nbconvert_exporter": "python",
   "pygments_lexer": "ipython3",
   "version": "3.9.12"
  }
 },
 "nbformat": 4,
 "nbformat_minor": 5
}
