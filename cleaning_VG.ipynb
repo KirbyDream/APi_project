{
 "cells": [
  {
   "cell_type": "code",
   "execution_count": 1,
   "id": "8a4c688a",
   "metadata": {},
   "outputs": [],
   "source": [
    "import numpy as np\n",
    "import pandas as pd\n",
    "import re\n",
    "import warnings\n",
    "import seaborn as sns\n",
    "import matplotlib.pyplot as plt\n",
    "from pandas import json_normalize\n",
    "\n",
    "import requests \n",
    "import json\n",
    "import os\n",
    "from dotenv import load_dotenv\n",
    "\n",
    "import time"
   ]
  },
  {
   "cell_type": "markdown",
   "id": "e134701f",
   "metadata": {},
   "source": [
    "#  Video games analysis and visualization"
   ]
  },
  {
   "cell_type": "code",
   "execution_count": 2,
   "id": "04dd7af8",
   "metadata": {},
   "outputs": [],
   "source": [
    "df_vg = pd.read_csv(\"./data/vgsales.csv\" , index_col = \"Rank\" )\n",
    "df_vg.head()\n",
    "\n",
    "pd.set_option('display.max_rows', None)\n",
    "\n"
   ]
  },
  {
   "cell_type": "code",
   "execution_count": 3,
   "id": "1ab56b0b",
   "metadata": {},
   "outputs": [
    {
     "data": {
      "text/html": [
       "<div>\n",
       "<style scoped>\n",
       "    .dataframe tbody tr th:only-of-type {\n",
       "        vertical-align: middle;\n",
       "    }\n",
       "\n",
       "    .dataframe tbody tr th {\n",
       "        vertical-align: top;\n",
       "    }\n",
       "\n",
       "    .dataframe thead th {\n",
       "        text-align: right;\n",
       "    }\n",
       "</style>\n",
       "<table border=\"1\" class=\"dataframe\">\n",
       "  <thead>\n",
       "    <tr style=\"text-align: right;\">\n",
       "      <th></th>\n",
       "      <th>Name</th>\n",
       "      <th>Platform</th>\n",
       "      <th>Year</th>\n",
       "      <th>Genre</th>\n",
       "      <th>Publisher</th>\n",
       "      <th>NA_Sales</th>\n",
       "      <th>EU_Sales</th>\n",
       "      <th>JP_Sales</th>\n",
       "      <th>Other_Sales</th>\n",
       "      <th>Global_Sales</th>\n",
       "    </tr>\n",
       "    <tr>\n",
       "      <th>Rank</th>\n",
       "      <th></th>\n",
       "      <th></th>\n",
       "      <th></th>\n",
       "      <th></th>\n",
       "      <th></th>\n",
       "      <th></th>\n",
       "      <th></th>\n",
       "      <th></th>\n",
       "      <th></th>\n",
       "      <th></th>\n",
       "    </tr>\n",
       "  </thead>\n",
       "  <tbody>\n",
       "    <tr>\n",
       "      <th>1</th>\n",
       "      <td>Wii Sports</td>\n",
       "      <td>Wii</td>\n",
       "      <td>2006.0</td>\n",
       "      <td>Sports</td>\n",
       "      <td>Nintendo</td>\n",
       "      <td>41.49</td>\n",
       "      <td>29.02</td>\n",
       "      <td>3.77</td>\n",
       "      <td>8.46</td>\n",
       "      <td>82.74</td>\n",
       "    </tr>\n",
       "    <tr>\n",
       "      <th>2</th>\n",
       "      <td>Super Mario Bros.</td>\n",
       "      <td>NES</td>\n",
       "      <td>1985.0</td>\n",
       "      <td>Platform</td>\n",
       "      <td>Nintendo</td>\n",
       "      <td>29.08</td>\n",
       "      <td>3.58</td>\n",
       "      <td>6.81</td>\n",
       "      <td>0.77</td>\n",
       "      <td>40.24</td>\n",
       "    </tr>\n",
       "    <tr>\n",
       "      <th>3</th>\n",
       "      <td>Mario Kart Wii</td>\n",
       "      <td>Wii</td>\n",
       "      <td>2008.0</td>\n",
       "      <td>Racing</td>\n",
       "      <td>Nintendo</td>\n",
       "      <td>15.85</td>\n",
       "      <td>12.88</td>\n",
       "      <td>3.79</td>\n",
       "      <td>3.31</td>\n",
       "      <td>35.82</td>\n",
       "    </tr>\n",
       "    <tr>\n",
       "      <th>4</th>\n",
       "      <td>Wii Sports Resort</td>\n",
       "      <td>Wii</td>\n",
       "      <td>2009.0</td>\n",
       "      <td>Sports</td>\n",
       "      <td>Nintendo</td>\n",
       "      <td>15.75</td>\n",
       "      <td>11.01</td>\n",
       "      <td>3.28</td>\n",
       "      <td>2.96</td>\n",
       "      <td>33.00</td>\n",
       "    </tr>\n",
       "    <tr>\n",
       "      <th>5</th>\n",
       "      <td>Pokemon Red/Pokemon Blue</td>\n",
       "      <td>GB</td>\n",
       "      <td>1996.0</td>\n",
       "      <td>Role-Playing</td>\n",
       "      <td>Nintendo</td>\n",
       "      <td>11.27</td>\n",
       "      <td>8.89</td>\n",
       "      <td>10.22</td>\n",
       "      <td>1.00</td>\n",
       "      <td>31.37</td>\n",
       "    </tr>\n",
       "  </tbody>\n",
       "</table>\n",
       "</div>"
      ],
      "text/plain": [
       "                          Name Platform    Year         Genre Publisher  \\\n",
       "Rank                                                                      \n",
       "1                   Wii Sports      Wii  2006.0        Sports  Nintendo   \n",
       "2            Super Mario Bros.      NES  1985.0      Platform  Nintendo   \n",
       "3               Mario Kart Wii      Wii  2008.0        Racing  Nintendo   \n",
       "4            Wii Sports Resort      Wii  2009.0        Sports  Nintendo   \n",
       "5     Pokemon Red/Pokemon Blue       GB  1996.0  Role-Playing  Nintendo   \n",
       "\n",
       "      NA_Sales  EU_Sales  JP_Sales  Other_Sales  Global_Sales  \n",
       "Rank                                                           \n",
       "1        41.49     29.02      3.77         8.46         82.74  \n",
       "2        29.08      3.58      6.81         0.77         40.24  \n",
       "3        15.85     12.88      3.79         3.31         35.82  \n",
       "4        15.75     11.01      3.28         2.96         33.00  \n",
       "5        11.27      8.89     10.22         1.00         31.37  "
      ]
     },
     "execution_count": 3,
     "metadata": {},
     "output_type": "execute_result"
    }
   ],
   "source": [
    "df_vg.head()"
   ]
  },
  {
   "cell_type": "code",
   "execution_count": 4,
   "id": "5b4ed728",
   "metadata": {},
   "outputs": [],
   "source": [
    "df_vg = df_vg.drop_duplicates()"
   ]
  },
  {
   "cell_type": "code",
   "execution_count": 5,
   "id": "e76fa4ca",
   "metadata": {},
   "outputs": [
    {
     "data": {
      "text/plain": [
       "(16597, 10)"
      ]
     },
     "execution_count": 5,
     "metadata": {},
     "output_type": "execute_result"
    }
   ],
   "source": [
    "df_vg.shape"
   ]
  },
  {
   "cell_type": "code",
   "execution_count": 7,
   "id": "c3764c06",
   "metadata": {},
   "outputs": [
    {
     "name": "stdout",
     "output_type": "stream",
     "text": [
      "Index(['Name', 'Platform', 'Year', 'Genre', 'Publisher', 'NA_Sales',\n",
      "       'EU_Sales', 'JP_Sales', 'Other_Sales', 'Global_Sales'],\n",
      "      dtype='object')\n"
     ]
    }
   ],
   "source": [
    "print(df_vg.columns)"
   ]
  },
  {
   "cell_type": "code",
   "execution_count": 8,
   "id": "85a1b2fc",
   "metadata": {},
   "outputs": [
    {
     "data": {
      "text/plain": [
       "Name             object\n",
       "Platform         object\n",
       "Year            float64\n",
       "Genre            object\n",
       "Publisher        object\n",
       "NA_Sales        float64\n",
       "EU_Sales        float64\n",
       "JP_Sales        float64\n",
       "Other_Sales     float64\n",
       "Global_Sales    float64\n",
       "dtype: object"
      ]
     },
     "execution_count": 8,
     "metadata": {},
     "output_type": "execute_result"
    }
   ],
   "source": [
    "df_vg.dtypes"
   ]
  },
  {
   "cell_type": "code",
   "execution_count": 9,
   "id": "41f57752",
   "metadata": {},
   "outputs": [],
   "source": [
    "def drop_na(df):\n",
    "    df = df.dropna(axis = 0, how=\"all\")\n",
    "    return df\n",
    "df_vg = drop_na(df_vg)"
   ]
  },
  {
   "cell_type": "code",
   "execution_count": 10,
   "id": "b25bea7a",
   "metadata": {},
   "outputs": [
    {
     "data": {
      "text/plain": [
       "(16597, 10)"
      ]
     },
     "execution_count": 10,
     "metadata": {},
     "output_type": "execute_result"
    }
   ],
   "source": [
    "df_vg.shape"
   ]
  },
  {
   "cell_type": "code",
   "execution_count": 11,
   "id": "0fd32b19",
   "metadata": {
    "scrolled": true
   },
   "outputs": [
    {
     "data": {
      "text/plain": [
       "Name              0\n",
       "Platform          0\n",
       "Year            270\n",
       "Genre             0\n",
       "Publisher        58\n",
       "NA_Sales          0\n",
       "EU_Sales          0\n",
       "JP_Sales          0\n",
       "Other_Sales       0\n",
       "Global_Sales      0\n",
       "dtype: int64"
      ]
     },
     "execution_count": 11,
     "metadata": {},
     "output_type": "execute_result"
    }
   ],
   "source": [
    "pd.isna(df_vg).sum()"
   ]
  },
  {
   "cell_type": "code",
   "execution_count": 12,
   "id": "4622024e",
   "metadata": {},
   "outputs": [],
   "source": [
    "def drop_na_column(df, col_name):\n",
    "    df = df[df[col_name].notna()]\n",
    "    return df"
   ]
  },
  {
   "cell_type": "code",
   "execution_count": 13,
   "id": "79aad7c5",
   "metadata": {},
   "outputs": [],
   "source": [
    "df_vg = drop_na_column(df_vg, \"Year\")"
   ]
  },
  {
   "cell_type": "code",
   "execution_count": 14,
   "id": "d884d43c",
   "metadata": {},
   "outputs": [],
   "source": [
    "df_vg = drop_na_column(df_vg, \"Publisher\")"
   ]
  },
  {
   "cell_type": "code",
   "execution_count": 15,
   "id": "8ea17ce5",
   "metadata": {},
   "outputs": [
    {
     "data": {
      "text/html": [
       "<div>\n",
       "<style scoped>\n",
       "    .dataframe tbody tr th:only-of-type {\n",
       "        vertical-align: middle;\n",
       "    }\n",
       "\n",
       "    .dataframe tbody tr th {\n",
       "        vertical-align: top;\n",
       "    }\n",
       "\n",
       "    .dataframe thead th {\n",
       "        text-align: right;\n",
       "    }\n",
       "</style>\n",
       "<table border=\"1\" class=\"dataframe\">\n",
       "  <thead>\n",
       "    <tr style=\"text-align: right;\">\n",
       "      <th></th>\n",
       "      <th>Name</th>\n",
       "      <th>Platform</th>\n",
       "      <th>Year</th>\n",
       "      <th>Genre</th>\n",
       "      <th>Publisher</th>\n",
       "      <th>NA_Sales</th>\n",
       "      <th>EU_Sales</th>\n",
       "      <th>JP_Sales</th>\n",
       "      <th>Other_Sales</th>\n",
       "      <th>Global_Sales</th>\n",
       "    </tr>\n",
       "    <tr>\n",
       "      <th>Rank</th>\n",
       "      <th></th>\n",
       "      <th></th>\n",
       "      <th></th>\n",
       "      <th></th>\n",
       "      <th></th>\n",
       "      <th></th>\n",
       "      <th></th>\n",
       "      <th></th>\n",
       "      <th></th>\n",
       "      <th></th>\n",
       "    </tr>\n",
       "  </thead>\n",
       "  <tbody>\n",
       "    <tr>\n",
       "      <th>1</th>\n",
       "      <td>Wii Sports</td>\n",
       "      <td>Wii</td>\n",
       "      <td>2006.0</td>\n",
       "      <td>Sports</td>\n",
       "      <td>Nintendo</td>\n",
       "      <td>41.49</td>\n",
       "      <td>29.02</td>\n",
       "      <td>3.77</td>\n",
       "      <td>8.46</td>\n",
       "      <td>82.74</td>\n",
       "    </tr>\n",
       "    <tr>\n",
       "      <th>2</th>\n",
       "      <td>Super Mario Bros.</td>\n",
       "      <td>NES</td>\n",
       "      <td>1985.0</td>\n",
       "      <td>Platform</td>\n",
       "      <td>Nintendo</td>\n",
       "      <td>29.08</td>\n",
       "      <td>3.58</td>\n",
       "      <td>6.81</td>\n",
       "      <td>0.77</td>\n",
       "      <td>40.24</td>\n",
       "    </tr>\n",
       "    <tr>\n",
       "      <th>3</th>\n",
       "      <td>Mario Kart Wii</td>\n",
       "      <td>Wii</td>\n",
       "      <td>2008.0</td>\n",
       "      <td>Racing</td>\n",
       "      <td>Nintendo</td>\n",
       "      <td>15.85</td>\n",
       "      <td>12.88</td>\n",
       "      <td>3.79</td>\n",
       "      <td>3.31</td>\n",
       "      <td>35.82</td>\n",
       "    </tr>\n",
       "    <tr>\n",
       "      <th>4</th>\n",
       "      <td>Wii Sports Resort</td>\n",
       "      <td>Wii</td>\n",
       "      <td>2009.0</td>\n",
       "      <td>Sports</td>\n",
       "      <td>Nintendo</td>\n",
       "      <td>15.75</td>\n",
       "      <td>11.01</td>\n",
       "      <td>3.28</td>\n",
       "      <td>2.96</td>\n",
       "      <td>33.00</td>\n",
       "    </tr>\n",
       "    <tr>\n",
       "      <th>5</th>\n",
       "      <td>Pokemon Red/Pokemon Blue</td>\n",
       "      <td>GB</td>\n",
       "      <td>1996.0</td>\n",
       "      <td>Role-Playing</td>\n",
       "      <td>Nintendo</td>\n",
       "      <td>11.27</td>\n",
       "      <td>8.89</td>\n",
       "      <td>10.22</td>\n",
       "      <td>1.00</td>\n",
       "      <td>31.37</td>\n",
       "    </tr>\n",
       "  </tbody>\n",
       "</table>\n",
       "</div>"
      ],
      "text/plain": [
       "                          Name Platform    Year         Genre Publisher  \\\n",
       "Rank                                                                      \n",
       "1                   Wii Sports      Wii  2006.0        Sports  Nintendo   \n",
       "2            Super Mario Bros.      NES  1985.0      Platform  Nintendo   \n",
       "3               Mario Kart Wii      Wii  2008.0        Racing  Nintendo   \n",
       "4            Wii Sports Resort      Wii  2009.0        Sports  Nintendo   \n",
       "5     Pokemon Red/Pokemon Blue       GB  1996.0  Role-Playing  Nintendo   \n",
       "\n",
       "      NA_Sales  EU_Sales  JP_Sales  Other_Sales  Global_Sales  \n",
       "Rank                                                           \n",
       "1        41.49     29.02      3.77         8.46         82.74  \n",
       "2        29.08      3.58      6.81         0.77         40.24  \n",
       "3        15.85     12.88      3.79         3.31         35.82  \n",
       "4        15.75     11.01      3.28         2.96         33.00  \n",
       "5        11.27      8.89     10.22         1.00         31.37  "
      ]
     },
     "execution_count": 15,
     "metadata": {},
     "output_type": "execute_result"
    }
   ],
   "source": [
    "df_vg.head()"
   ]
  },
  {
   "cell_type": "code",
   "execution_count": 16,
   "id": "d99e8128",
   "metadata": {},
   "outputs": [
    {
     "data": {
      "text/plain": [
       "Name            0\n",
       "Platform        0\n",
       "Year            0\n",
       "Genre           0\n",
       "Publisher       0\n",
       "NA_Sales        0\n",
       "EU_Sales        0\n",
       "JP_Sales        0\n",
       "Other_Sales     0\n",
       "Global_Sales    0\n",
       "dtype: int64"
      ]
     },
     "execution_count": 16,
     "metadata": {},
     "output_type": "execute_result"
    }
   ],
   "source": [
    "pd.isna(df_vg).sum()"
   ]
  },
  {
   "cell_type": "code",
   "execution_count": 17,
   "id": "694f9e07",
   "metadata": {},
   "outputs": [],
   "source": [
    "df_vg.to_csv(\"./data/df_video_games.csv\")"
   ]
  },
  {
   "cell_type": "markdown",
   "id": "8de3c9e7",
   "metadata": {},
   "source": [
    "# 1- Video games Genre \n"
   ]
  },
  {
   "cell_type": "markdown",
   "id": "9e0f97ca",
   "metadata": {},
   "source": [
    "### Genre with most games releases"
   ]
  },
  {
   "cell_type": "code",
   "execution_count": 19,
   "id": "56603db0",
   "metadata": {},
   "outputs": [],
   "source": [
    "genre = df_vg[\"Genre\"].value_counts()\n"
   ]
  },
  {
   "cell_type": "code",
   "execution_count": 28,
   "id": "f2452bd2",
   "metadata": {},
   "outputs": [],
   "source": [
    "sns.set_style(\"whitegrid\")\n",
    "sns.set(rc={\"figure.figsize\": (17.,6.)})\n",
    "sns.plotting_context(\"talk\")\n",
    "sns.set_context(\"poster\")\n"
   ]
  },
  {
   "cell_type": "code",
   "execution_count": 30,
   "id": "935a6656",
   "metadata": {},
   "outputs": [
    {
     "data": {
      "image/png": "[encoded data removed]",
      "text/plain": [
       "<Figure size 1224x432 with 1 Axes>"
      ]
     },
     "metadata": {},
     "output_type": "display_data"
    }
   ],
   "source": [
    "sns.countplot(x=\"Genre\", data=df_vg, order = df_vg[\"Genre\"].value_counts().index).set(title='Genre with the most games')\n",
    "sns.color_palette(\"hls\", 8)\n",
    "plt.xticks(size=20)\n",
    "plt.yticks(size=20)\n",
    "plt.xticks(rotation=70)\n",
    "plt.rcParams[\"axes.labelsize\"] = 15\n"
   ]
  },
  {
   "cell_type": "code",
   "execution_count": 33,
   "id": "34df0d3e",
   "metadata": {},
   "outputs": [
    {
     "name": "stdout",
     "output_type": "stream",
     "text": [
      "Action          19.955804\n",
      "Sports          14.142778\n",
      "Misc            10.349273\n",
      "Role-Playing     9.023387\n",
      "Shooter          7.869376\n",
      "Adventure        7.820269\n",
      "Racing           7.519489\n",
      "Platform         5.371064\n",
      "Simulation       5.205328\n",
      "Fighting         5.131668\n",
      "Strategy         4.112700\n",
      "Puzzle           3.498864\n",
      "Name: Genre, dtype: float64\n"
     ]
    }
   ],
   "source": [
    "percent = (df_vg['Genre'].value_counts()/df_vg['Genre'].count())*100\n",
    "print(percent)"
   ]
  },
  {
   "cell_type": "markdown",
   "id": "f0c96124",
   "metadata": {},
   "source": [
    "### Genre with the most sales (in millions)\n",
    "Grouping by genre to get the global sales per genre "
   ]
  },
  {
   "cell_type": "code",
   "execution_count": null,
   "id": "0efbca77",
   "metadata": {},
   "outputs": [],
   "source": [
    "Global_sale_genre = df_vg.groupby(by=['Genre'])['Global_Sales'].sum().reset_index()\n",
    "Global_sale_genre\n",
    "Global_sale_genre.sort_values(by = [\"Global_Sales\"], ascending = False)\n",
    "\n"
   ]
  },
  {
   "cell_type": "code",
   "execution_count": null,
   "id": "76dd243c",
   "metadata": {},
   "outputs": [],
   "source": [
    "sns.set_style(\"whitegrid\")\n",
    "#sns.set_style(\"dark\")\n",
    "sns.set(rc={\"figure.figsize\": (12.,6.)})\n",
    "sns.set_context(\"poster\")\n",
    "Global_sale_genre = Global_sale_genre.sort_values('Global_Sales',ascending=False)\n",
    "sns.barplot(x='Genre', y='Global_Sales', data=Global_sale_genre, errorbar=('ci', 0)).set(title='Genre with the most sales')\n",
    "\n",
    "plt.xticks(rotation=60)\n"
   ]
  },
  {
   "cell_type": "markdown",
   "id": "d0a1d295",
   "metadata": {},
   "source": [
    "### Popular genre per region\n"
   ]
  },
  {
   "cell_type": "code",
   "execution_count": null,
   "id": "3ed27c75",
   "metadata": {},
   "outputs": [],
   "source": [
    "comp_genre = df_vg[['Genre', 'NA_Sales', 'EU_Sales', 'JP_Sales', 'Other_Sales']]\n",
    "# comp_genre\n",
    "compar_map = comp_genre.groupby(by=['Genre']).sum()\n",
    "popular = df_vg.groupby(\"Genre\").agg({\"NA_Sales\":\"sum\", \"EU_Sales\":\"sum\", \"JP_Sales\": \"sum\", \"Other_Sales\": \"sum\"})\n",
    "compar = compar_map.reset_index()\n",
    "compar = pd.melt(compar, id_vars=['Genre'], value_vars=['NA_Sales', 'EU_Sales', 'JP_Sales', 'Other_Sales'], var_name='Sale_Area', value_name='Sales')\n",
    "compar.head()\n",
    "\n",
    "plt.figure(figsize=(15, 10))\n",
    "sns.barplot(x='Genre', y='Sales', hue='Sale_Area', data=compar).set(title = \"Popular genre per region\")\n",
    "plt.legend(loc='center left', bbox_to_anchor=(1, 0.5))\n",
    "sns.set_style(\"dark\")\n",
    "plt.xticks(size=20, rotation=60)"
   ]
  },
  {
   "cell_type": "markdown",
   "id": "d1db8f74",
   "metadata": {},
   "source": [
    "# 2- Video games platforms \n"
   ]
  },
  {
   "cell_type": "markdown",
   "id": "0f142f2a",
   "metadata": {},
   "source": [
    "### Platforms with the most games"
   ]
  },
  {
   "cell_type": "code",
   "execution_count": null,
   "id": "798d8e58",
   "metadata": {},
   "outputs": [],
   "source": [
    "platform = df_vg[\"Platform\"].value_counts()\n",
    "platform\n",
    "sns.countplot(x=\"Platform\", data=df_vg, order = df_vg[\"Platform\"].value_counts().index).set(title='Platform with the most games')\n",
    "sns.color_palette(\"hls\", 8)\n",
    "plt.xticks(size=15, rotation=90)"
   ]
  },
  {
   "cell_type": "markdown",
   "id": "e19a981b",
   "metadata": {},
   "source": [
    "### The platform with the most sales\n"
   ]
  },
  {
   "cell_type": "code",
   "execution_count": null,
   "id": "3454338a",
   "metadata": {
    "scrolled": true
   },
   "outputs": [],
   "source": [
    "Global_sale_plat = df_vg.groupby(by=['Platform'])['Global_Sales'].sum().reset_index()\n",
    "#Global_sale_plat\n",
    "\n"
   ]
  },
  {
   "cell_type": "code",
   "execution_count": null,
   "id": "5ebaa229",
   "metadata": {},
   "outputs": [],
   "source": [
    "top_plat_sales = Global_sale_plat[Global_sale_plat['Global_Sales'] > 30]\n",
    "top_plat_sales = top_plat_sales.sort_values(by = [\"Global_Sales\"], ascending = False)\n",
    "platform_plot = sns.barplot(x='Platform', y='Global_Sales', data=top_plat_sales).set(title='Platform with the most sales')\n",
    "plt.xticks(size=20, rotation=70)\n"
   ]
  },
  {
   "cell_type": "markdown",
   "id": "c26724cc",
   "metadata": {},
   "source": [
    "# 3-Video games poularity over the years '1980-2020'"
   ]
  },
  {
   "cell_type": "markdown",
   "id": "47a747a7",
   "metadata": {},
   "source": [
    "## Global sales per genre per year\n",
    "Grouping per Genre and year to get the total global sales  \n",
    "Limiting the Global sales to the values larger than 700 million"
   ]
  },
  {
   "cell_type": "code",
   "execution_count": null,
   "id": "cb0bb0cf",
   "metadata": {},
   "outputs": [],
   "source": [
    "Global_sale_genre_year = df_vg.groupby(by=['Genre',\"Year\"])['Global_Sales'].sum().reset_index().sort_values(by = [\"Global_Sales\"], ascending = False)\n",
    "Global_sale_genre_year.sample()"
   ]
  },
  {
   "cell_type": "code",
   "execution_count": null,
   "id": "57b55928",
   "metadata": {},
   "outputs": [],
   "source": [
    "top_genere_sales = Global_sale_genre[Global_sale_genre['Global_Sales'] > 700]\n",
    "top_genere_sales"
   ]
  },
  {
   "cell_type": "markdown",
   "id": "1cdf9f08",
   "metadata": {},
   "source": [
    "Crossing Genre values from 2 tables   \n",
    "-->top_genre_sales: where we limited the global sales value to 700  \n",
    "-->Global_sale_genre_year : where we filter by genre"
   ]
  },
  {
   "cell_type": "code",
   "execution_count": null,
   "id": "cbfc78e3",
   "metadata": {},
   "outputs": [],
   "source": [
    "Global_sale_genre_year = Global_sale_genre_year[Global_sale_genre_year['Genre'].isin(top_genere_sales['Genre'])]\n"
   ]
  },
  {
   "cell_type": "code",
   "execution_count": null,
   "id": "3af2759d",
   "metadata": {
    "scrolled": false
   },
   "outputs": [],
   "source": [
    "#line plot sales per genre per year\n",
    "sns.set(rc={\"figure.figsize\": (15.,8.)})\n",
    "\n",
    "line =sns.lineplot(x = \"Year\", y= \"Global_Sales\", hue = \"Genre\",data = Global_sale_genre_year)\n",
    "line.set_title(\"Global sales per genre over the years '1980-2020'\",fontsize=20)\n",
    "sns.set(font_scale=1)\n",
    "sns.despine()\n"
   ]
  },
  {
   "cell_type": "markdown",
   "id": "172b017d",
   "metadata": {},
   "source": [
    "# Year with the most Sales\n",
    "Limiting the years starting from 1990, the sales value before are very low"
   ]
  },
  {
   "cell_type": "code",
   "execution_count": null,
   "id": "8731597a",
   "metadata": {},
   "outputs": [],
   "source": [
    "df_vg[\"Year\"] = df_vg[\"Year\"].astype(int)\n"
   ]
  },
  {
   "cell_type": "code",
   "execution_count": null,
   "id": "9eb4bdd8",
   "metadata": {},
   "outputs": [],
   "source": [
    "year_vg = df_vg[df_vg['Year'] > 1990]\n",
    "sns.set(font_scale=2)\n",
    "sns.countplot(x=\"Year\", data=year_vg, order = year_vg.groupby(by=['Year'])['Name'].count().sort_values(ascending=False).index).set(title='Year with the most sales')\n",
    "#plot1.set(xlabel='Year', ylabel='Global sales')\n",
    "plt.xlabel('Year')\n",
    "plt.ylabel('Global Sales')\n",
    "plt.xticks(rotation=60)\n",
    "#this is release not sale"
   ]
  },
  {
   "cell_type": "code",
   "execution_count": null,
   "id": "01b959b8",
   "metadata": {},
   "outputs": [],
   "source": [
    "Global_sale_top_year = df_vg.groupby(by=[\"Year\"])['Global_Sales'].sum().reset_index().sort_values(by = [\"Year\"], ascending = False)\n",
    "\n",
    "\n",
    "line2 = sns.barplot(x = \"Year\", y= \"Global_Sales\",data = Global_sale_top_year)\n",
    "plt.xticks(rotation=60)\n",
    "#line2.set_title(\"Evolution of Global sales over the years '1980-2020'\",fontsize=20)"
   ]
  },
  {
   "cell_type": "code",
   "execution_count": null,
   "id": "8aec9373",
   "metadata": {
    "scrolled": false
   },
   "outputs": [],
   "source": [
    "Global_sale_top_year = df_vg.groupby(by=[\"Year\"])['Global_Sales'].sum().reset_index().sort_values(by = [\"Year\"], ascending = False)\n",
    "\n",
    "\n",
    "line2 = sns.lineplot(x = \"Year\", y= \"Global_Sales\",data = Global_sale_top_year)\n",
    "line2.set_title(\"Evolution of Global sales over the years '1980-2020'\",fontsize=20)"
   ]
  },
  {
   "cell_type": "code",
   "execution_count": null,
   "id": "5ff248a1",
   "metadata": {
    "scrolled": true
   },
   "outputs": [],
   "source": [
    "test_agg_year_genre= df_vg.groupby([\"Year\"]).agg({\"NA_Sales\":\"sum\", \"EU_Sales\":\"sum\", \"JP_Sales\": \"sum\", \"Other_Sales\": \"sum\"})\n",
    "test_agg_year_genre"
   ]
  },
  {
   "cell_type": "code",
   "execution_count": null,
   "id": "8b87dcb5",
   "metadata": {},
   "outputs": [],
   "source": [
    "\n"
   ]
  },
  {
   "cell_type": "code",
   "execution_count": null,
   "id": "5961811b",
   "metadata": {},
   "outputs": [],
   "source": [
    "top_sale_region_year = df_vg.groupby(by=[\"Year\"])[['NA_Sales', 'EU_Sales', 'JP_Sales', 'Other_Sales']].sum().reset_index()\n",
    "melt_plot = top_sale_region_year.melt(id_vars=[\"Year\"], var_name=\"Region\", value_name=\"Total\")\n",
    "melt_plot = melt_plot.sort_values('Total',ascending=False)\n"
   ]
  },
  {
   "cell_type": "code",
   "execution_count": null,
   "id": "c989933b",
   "metadata": {},
   "outputs": [],
   "source": [
    "hey = melt_plot.groupby([\"Region\"])[\"Total\"].sum()\n"
   ]
  },
  {
   "cell_type": "code",
   "execution_count": null,
   "id": "55a74d81",
   "metadata": {},
   "outputs": [],
   "source": []
  },
  {
   "cell_type": "code",
   "execution_count": null,
   "id": "0e16176c",
   "metadata": {},
   "outputs": [],
   "source": []
  },
  {
   "cell_type": "code",
   "execution_count": null,
   "id": "1e6fe053",
   "metadata": {},
   "outputs": [],
   "source": []
  },
  {
   "cell_type": "code",
   "execution_count": null,
   "id": "122e3df7",
   "metadata": {},
   "outputs": [],
   "source": []
  },
  {
   "cell_type": "code",
   "execution_count": null,
   "id": "b31db965",
   "metadata": {},
   "outputs": [],
   "source": [
    "\n"
   ]
  },
  {
   "cell_type": "code",
   "execution_count": null,
   "id": "3bd44289",
   "metadata": {},
   "outputs": [],
   "source": []
  },
  {
   "cell_type": "code",
   "execution_count": null,
   "id": "3bb0336f",
   "metadata": {},
   "outputs": [],
   "source": [
    "#to review\n",
    "data_year = df_vg.groupby(by=['Year'])['Global_Sales'].sum().reset_index()\n",
    "top_sale_years = data_year.groupby(\"Year\")['Global_Sales'].sum().reset_index().sort_values(\"Global_Sales\", ascending = False).head(6)\n",
    "data_top_genre_year = data_year[data_year[\"Year\"].isin(top_sale_years[\"Year\"])]\n",
    "data_top_genre_year = data_top_genre_year[data_top_genre_year[\"Genre\"].isin(top_genere_sales[\"Genre\"])]\n",
    "sns.set(rc={'figure.figsize':(20,10)})"
   ]
  },
  {
   "cell_type": "code",
   "execution_count": null,
   "id": "8edd611e",
   "metadata": {
    "scrolled": false
   },
   "outputs": [],
   "source": [
    "\n"
   ]
  },
  {
   "cell_type": "code",
   "execution_count": null,
   "id": "7da7780c",
   "metadata": {
    "scrolled": true
   },
   "outputs": [],
   "source": [
    "#data_top_genre_year"
   ]
  },
  {
   "cell_type": "code",
   "execution_count": null,
   "id": "0c521cb3",
   "metadata": {},
   "outputs": [],
   "source": [
    "df_vg_pairplt = df_vg.loc[:,[\"Year\",\"Platform\", \"Genre\", \"NA_Sales\",\"EU_Sales\", \"Other_Sales\"]]\n",
    "#df_vg_pairplt"
   ]
  },
  {
   "cell_type": "code",
   "execution_count": null,
   "id": "8abf42b7",
   "metadata": {},
   "outputs": [],
   "source": [
    "sns.pairplot(df_vg_pairplt, hue='Genre', palette = \"dark\", size =3)"
   ]
  },
  {
   "cell_type": "code",
   "execution_count": null,
   "id": "0cbe371d",
   "metadata": {},
   "outputs": [],
   "source": []
  },
  {
   "cell_type": "code",
   "execution_count": null,
   "id": "0b332184",
   "metadata": {},
   "outputs": [],
   "source": [
    "\n"
   ]
  },
  {
   "cell_type": "code",
   "execution_count": null,
   "id": "c18d0956",
   "metadata": {},
   "outputs": [],
   "source": [
    "\n",
    "\n"
   ]
  },
  {
   "cell_type": "code",
   "execution_count": null,
   "id": "3c47c3bf",
   "metadata": {},
   "outputs": [],
   "source": [
    "\n"
   ]
  },
  {
   "cell_type": "code",
   "execution_count": null,
   "id": "135ae8fa",
   "metadata": {},
   "outputs": [],
   "source": []
  },
  {
   "cell_type": "code",
   "execution_count": null,
   "id": "7e9100a8",
   "metadata": {},
   "outputs": [],
   "source": [
    "\n",
    "\n"
   ]
  },
  {
   "cell_type": "code",
   "execution_count": null,
   "id": "7e7e67cd",
   "metadata": {},
   "outputs": [],
   "source": []
  },
  {
   "cell_type": "code",
   "execution_count": null,
   "id": "b9447d14",
   "metadata": {},
   "outputs": [],
   "source": []
  },
  {
   "cell_type": "code",
   "execution_count": null,
   "id": "d373c43e",
   "metadata": {},
   "outputs": [],
   "source": []
  },
  {
   "cell_type": "code",
   "execution_count": null,
   "id": "55bc2901",
   "metadata": {},
   "outputs": [],
   "source": [
    "\n"
   ]
  },
  {
   "cell_type": "code",
   "execution_count": null,
   "id": "48329dd2",
   "metadata": {},
   "outputs": [],
   "source": []
  },
  {
   "cell_type": "code",
   "execution_count": null,
   "id": "b8d8735e",
   "metadata": {},
   "outputs": [],
   "source": [
    "#trying rename columns\n",
    "\n",
    "for i in columns\n",
    "    df = df.rename(columns=\"NA_Sales\": \"region\", inplace=True)\n",
    "    df = df.rename(columns={\"EU_Sales\":f\"{region}\"}, inplace=True)\n",
    "    df = df.rename(columns={\"JP_Sales\":f\"{region}\"}, inplace=True)\n",
    "    return(df)\n"
   ]
  },
  {
   "cell_type": "code",
   "execution_count": null,
   "id": "480b1d07",
   "metadata": {},
   "outputs": [],
   "source": [
    "top_sale_region = df_vg[['NA_Sales', 'EU_Sales', 'JP_Sales', 'Other_Sales']]\n",
    "top_sale_region = top_sale_region.sum().reset_index()\n",
    "top_sale_region = top_sale_region.rename(columns={'index': 'Region', 0: 'Sale'})\n",
    "top_sale_region"
   ]
  },
  {
   "cell_type": "code",
   "execution_count": null,
   "id": "fdf6185f",
   "metadata": {},
   "outputs": [],
   "source": []
  },
  {
   "cell_type": "code",
   "execution_count": null,
   "id": "f0c229f3",
   "metadata": {},
   "outputs": [],
   "source": []
  },
  {
   "cell_type": "code",
   "execution_count": null,
   "id": "3b06d7a4",
   "metadata": {},
   "outputs": [],
   "source": [
    "plt.figure(figsize=(12, 8))\n",
    "#sns.barplot(x='Region', y='Total', data = melt_plot, title=\"Global sales per region\")\n",
    "sns.barplot(x='Region', y='Total', data = melt_plot, ci= 0)\n",
    "sns.barplot"
   ]
  },
  {
   "cell_type": "markdown",
   "id": "c8fa66b9",
   "metadata": {},
   "source": [
    "# 4-Crossing data using API"
   ]
  },
  {
   "cell_type": "markdown",
   "id": "0652eec5",
   "metadata": {},
   "source": [
    "We are getting data from the website World Bank using API.  \n",
    "The data we are intested in, is the birth rate globally and per region ( according to regions we have in our dataframe)  \n",
    "\n",
    "*For global birth rate --> https://api.worldbank.org/v2/country/WLD/indicator/SP.DYN.CBRT.IN?format=json.  \n",
    "\n",
    "*For North America birth rate --> https://api.worldbank.org/v2/country/NAC/indicator/SP.DYN.CBRT.IN?format=json.\n",
    "\n",
    "*For EU rate --> https://api.worldbank.org/v2/country/EUU/indicator/SP.DYN.CBRT.IN?format=json.   \n",
    "\n",
    "*For Japan birth rate -->  https://api.worldbank.org/v2/country/JPN/indicator/SP.DYN.CBRT.IN?format=json.  \n",
    "\n",
    "\n",
    "\n",
    "\n",
    "\n"
   ]
  },
  {
   "cell_type": "code",
   "execution_count": null,
   "id": "8b7a5075",
   "metadata": {},
   "outputs": [],
   "source": [
    "import requests"
   ]
  },
  {
   "cell_type": "code",
   "execution_count": null,
   "id": "d5771de8",
   "metadata": {},
   "outputs": [],
   "source": []
  },
  {
   "cell_type": "code",
   "execution_count": null,
   "id": "313fe18f",
   "metadata": {},
   "outputs": [],
   "source": [
    "def api_birth_region(region):\n",
    "    response_req = requests.get(f\"https://api.worldbank.org/v2/country/{region}/indicator/SP.DYN.CBRT.IN?format=json\")\n",
    "    df = pd.DataFrame.from_dict(response_req.json()[1], orient = \"columns\")\n",
    "    df = df.drop(columns=[\"indicator\",\"country\",\"decimal\",\"countryiso3code\",\"obs_status\",\"unit\"])\n",
    "    df.rename(columns={\"value\":f\"{region}_birth\"}, inplace=True)\n",
    "    df[\"date\"] = df[\"date\"].astype(int)\n",
    "    return df"
   ]
  },
  {
   "cell_type": "code",
   "execution_count": null,
   "id": "39a79811",
   "metadata": {
    "scrolled": true
   },
   "outputs": [],
   "source": [
    "api_birth_region(\"WLD\").head()"
   ]
  },
  {
   "cell_type": "code",
   "execution_count": null,
   "id": "1a8dcc1f",
   "metadata": {},
   "outputs": [],
   "source": [
    "df_birth = api_birth_region(\"WLD\")\n"
   ]
  },
  {
   "cell_type": "code",
   "execution_count": null,
   "id": "b853d9a2",
   "metadata": {},
   "outputs": [],
   "source": [
    "Global_sale_top_year[\"Year\"] = Global_sale_top_year[\"Year\"].astype(int)\n",
    "\n"
   ]
  },
  {
   "cell_type": "code",
   "execution_count": null,
   "id": "82e79873",
   "metadata": {},
   "outputs": [],
   "source": [
    "#merge global with global birth rate per 1000 people\n",
    "b = pd.merge(df_birth, Global_sale_top_year, how = \"inner\", left_on = \"date\", right_on = \"Year\")\n"
   ]
  },
  {
   "cell_type": "code",
   "execution_count": null,
   "id": "0534ab91",
   "metadata": {
    "scrolled": true
   },
   "outputs": [],
   "source": [
    "b.head()\n"
   ]
  },
  {
   "cell_type": "markdown",
   "id": "6776fc23",
   "metadata": {},
   "source": [
    "Source :https://data.worldbank.org/indicator/SP.DYN.CBRT.IN?end=2020&start=1960&view=chart"
   ]
  },
  {
   "cell_type": "code",
   "execution_count": null,
   "id": "0325b553",
   "metadata": {},
   "outputs": [],
   "source": [
    "ax2 = sns.lineplot(data=b,x = \"Year\", y = \"WLD_birth\", color=\"g\")\n",
    "ax2 = plt.twinx()\n",
    "ax2.set_ylabel(\"Global_Sales\",fontsize=20)\n",
    "sns.lineplot(data=b,x = \"Year\", y =\"Global_Sales\", color=\"b\", ax=ax2)\n",
    "g.set_title(\"Evolution of Global sales over the years '1980-2020'\",fontsize=20)\n",
    "g.set_xlabel(\"Year\",fontsize=30)\n",
    "g.set_ylabel(\"WLD_birth\",fontsize=30)\n",
    "#ax2.tick_params(labelsize=20)"
   ]
  },
  {
   "cell_type": "code",
   "execution_count": null,
   "id": "93a9c669",
   "metadata": {},
   "outputs": [],
   "source": [
    "sns.lineplot(data=b,x = \"Year\", y = \"WLD_birth\", color=\"g\")\n",
    "ax2 = plt.twinx()\n",
    "sns.lineplot(data=b,x = \"Year\", y =\"Global_Sales\", color=\"b\", ax=ax2)\n"
   ]
  },
  {
   "cell_type": "code",
   "execution_count": null,
   "id": "2aabd4e7",
   "metadata": {},
   "outputs": [],
   "source": [
    "df_corr = b.drop(columns=[\"Year\",\"date\"])\n",
    "df_corr.corr()"
   ]
  },
  {
   "cell_type": "code",
   "execution_count": null,
   "id": "9c928f45",
   "metadata": {
    "scrolled": true
   },
   "outputs": [],
   "source": [
    "regional_sale_top_year = df_vg.groupby(by=[\"Year\"])['NA_Sales','EU_Sales','JP_Sales'].sum().reset_index().sort_values(by = [\"Year\"], ascending = False)\n",
    "regional_sale_top_year"
   ]
  },
  {
   "cell_type": "code",
   "execution_count": null,
   "id": "94ef800e",
   "metadata": {},
   "outputs": [],
   "source": [
    "#https://api.worldbank.org/v2/country/EUU/indicator/SP.DYN.CBRT.IN?format=json"
   ]
  },
  {
   "cell_type": "code",
   "execution_count": null,
   "id": "ad74e31a",
   "metadata": {
    "scrolled": true
   },
   "outputs": [],
   "source": [
    "api_birth_region(\"EUU\").sample()\n"
   ]
  },
  {
   "cell_type": "code",
   "execution_count": null,
   "id": "357750a2",
   "metadata": {},
   "outputs": [],
   "source": [
    "EUU_birth = api_birth_region(\"EUU\")\n"
   ]
  },
  {
   "cell_type": "code",
   "execution_count": null,
   "id": "3056ac9c",
   "metadata": {},
   "outputs": [],
   "source": [
    "EUU_sale_top_year = df_vg.groupby(by=[\"Year\"])['EU_Sales'].sum().reset_index().sort_values(by = [\"Year\"], ascending = False)\n",
    "EUU_sale_top_year"
   ]
  },
  {
   "cell_type": "code",
   "execution_count": null,
   "id": "12443e6b",
   "metadata": {},
   "outputs": [],
   "source": [
    "#merge EUU sales with global birth rate per 1000 people\n",
    "c = pd.merge(EUU_birth, EUU_sale_top_year, how = \"inner\", left_on = \"date\", right_on = \"Year\")\n",
    "c.head()"
   ]
  },
  {
   "cell_type": "code",
   "execution_count": null,
   "id": "8eab64fa",
   "metadata": {},
   "outputs": [],
   "source": [
    "sns.lineplot(data=c,x = \"Year\", y = \"EUU_birth\", color=\"g\")\n",
    "ax2 = plt.twinx()\n",
    "sns.lineplot(data=c,x = \"Year\", y =\"EU_Sales\", color=\"b\", ax=ax2)"
   ]
  },
  {
   "cell_type": "code",
   "execution_count": null,
   "id": "b1d992ca",
   "metadata": {},
   "outputs": [],
   "source": [
    "#https://api.worldbank.org/v2/country/NAC/indicator/SP.DYN.CBRT.IN?format=json\n",
    "api_birth_region(\"NAC\").head()\n"
   ]
  },
  {
   "cell_type": "code",
   "execution_count": null,
   "id": "119efe42",
   "metadata": {},
   "outputs": [],
   "source": [
    "NA_birth = api_birth_region(\"NAC\")\n",
    "NA_birth.head()"
   ]
  },
  {
   "cell_type": "code",
   "execution_count": null,
   "id": "51dc32f8",
   "metadata": {},
   "outputs": [],
   "source": [
    "NA_sale_top_year = df_vg.groupby(by=[\"Year\"])['NA_Sales'].sum().reset_index().sort_values(by = [\"Year\"], ascending = False)\n"
   ]
  },
  {
   "cell_type": "code",
   "execution_count": null,
   "id": "3f499238",
   "metadata": {},
   "outputs": [],
   "source": [
    "#merge NA sales with global birth rate per 1000 people\n",
    "d = pd.merge(NA_birth, NA_sale_top_year, how = \"inner\", left_on = \"date\", right_on = \"Year\")\n"
   ]
  },
  {
   "cell_type": "code",
   "execution_count": null,
   "id": "c2f2e3fe",
   "metadata": {},
   "outputs": [],
   "source": [
    "sns.lineplot(data=d,x = \"date\", y = \"NAC_birth\", color=\"g\")\n",
    "ax2 = plt.twinx()\n",
    "sns.lineplot(data=d,x = \"date\", y =\"NA_Sales\", color=\"b\", ax=ax2)"
   ]
  },
  {
   "cell_type": "code",
   "execution_count": null,
   "id": "f85e3593",
   "metadata": {},
   "outputs": [],
   "source": [
    "df1_corr = d.drop(columns=[\"Year\",\"date\"])\n",
    "df1_corr.corr()"
   ]
  },
  {
   "cell_type": "code",
   "execution_count": null,
   "id": "d7b5da35",
   "metadata": {},
   "outputs": [],
   "source": [
    "#https://api.worldbank.org/v2/country/JPN/indicator/SP.DYN.CBRT.IN?format=json\n",
    "api_birth_region(\"JPN\").head()"
   ]
  },
  {
   "cell_type": "code",
   "execution_count": null,
   "id": "43433fb1",
   "metadata": {},
   "outputs": [],
   "source": [
    "JP_birth = api_birth_region(\"JPN\")\n"
   ]
  },
  {
   "cell_type": "code",
   "execution_count": null,
   "id": "257f98cc",
   "metadata": {},
   "outputs": [],
   "source": [
    "JP_birth.head()"
   ]
  },
  {
   "cell_type": "code",
   "execution_count": null,
   "id": "407ce34b",
   "metadata": {},
   "outputs": [],
   "source": [
    "JP_sale_top_year = df_vg.groupby(by=[\"Year\"])['JP_Sales'].sum().reset_index().sort_values(by = [\"Year\"], ascending = False)\n",
    "JP_sale_top_year.head()"
   ]
  },
  {
   "cell_type": "code",
   "execution_count": null,
   "id": "8cb7ccfa",
   "metadata": {},
   "outputs": [],
   "source": [
    "#merge NA sales with global birth rate per 1000 people\n",
    "j = pd.merge(JP_birth, JP_sale_top_year, how = \"inner\", left_on = \"date\", right_on = \"Year\")\n",
    "j.head()"
   ]
  },
  {
   "cell_type": "code",
   "execution_count": null,
   "id": "6f792c6f",
   "metadata": {},
   "outputs": [],
   "source": [
    "sns.lineplot(data=j,x = \"Year\", y = \"JPN_birth\", color=\"g\")\n",
    "ax2 = plt.twinx()\n",
    "sns.lineplot(data=j,x = \"Year\", y =\"JP_Sales\", color=\"b\", ax=ax2)"
   ]
  },
  {
   "cell_type": "code",
   "execution_count": null,
   "id": "2edb25e1",
   "metadata": {
    "scrolled": true
   },
   "outputs": [],
   "source": []
  },
  {
   "cell_type": "code",
   "execution_count": null,
   "id": "e7915b80",
   "metadata": {},
   "outputs": [],
   "source": []
  }
 ],
 "metadata": {
  "kernelspec": {
   "display_name": "ironhack",
   "language": "python",
   "name": "ironhack"
  },
  "language_info": {
   "codemirror_mode": {
    "name": "ipython",
    "version": 3
   },
   "file_extension": ".py",
   "mimetype": "text/x-python",
   "name": "python",
   "nbconvert_exporter": "python",
   "pygments_lexer": "ipython3",
   "version": "3.9.12"
  }
 },
 "nbformat": 4,
 "nbformat_minor": 5
}
